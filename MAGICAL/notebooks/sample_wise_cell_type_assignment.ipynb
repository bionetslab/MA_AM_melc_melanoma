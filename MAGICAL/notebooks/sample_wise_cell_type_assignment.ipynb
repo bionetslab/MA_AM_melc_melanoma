{
 "cells": [
  {
   "cell_type": "code",
   "execution_count": 1,
   "metadata": {},
   "outputs": [],
   "source": [
    "%load_ext autoreload\n",
    "%autoreload 2"
   ]
  },
  {
   "cell_type": "code",
   "execution_count": 2,
   "metadata": {
    "collapsed": false,
    "jupyter": {
     "outputs_hidden": false
    },
    "pycharm": {
     "name": "#%%\n"
    }
   },
   "outputs": [],
   "source": [
    "import theoretic as th\n",
    "from sklearn.mixture import GaussianMixture\n",
    "import anndata as ad\n",
    "from scipy.sparse import csr_matrix\n",
    "import numpy as np\n",
    "import pandas as pd\n",
    "import pickle\n",
    "import scanpy as sc\n",
    "import matplotlib.pyplot as plt\n",
    "import seaborn as sns\n",
    "import os\n",
    "import cv2\n",
    "from matplotlib.patches import Patch"
   ]
  },
  {
   "cell_type": "code",
   "execution_count": 3,
   "metadata": {},
   "outputs": [],
   "source": [
    "base = \"/data_nfs\"\n",
    "data = os.path.join(base, \"datasets/melc/melanoma/\")\n",
    "fovs = os.listdir(os.path.join(data, \"processed\"))"
   ]
  },
  {
   "cell_type": "code",
   "execution_count": 4,
   "metadata": {},
   "outputs": [],
   "source": [
    "antibody_gene_symbols = {\n",
    "    'ADAM10': 'ADAM10',\n",
    "    'Bcl-2': 'BCL2',\n",
    "    'CD10': 'MME',\n",
    "    'CD107a': 'LAMP1',\n",
    "    'CD13': 'ANPEP',\n",
    "    'CD138': 'SDC1',\n",
    "    'CD14': 'CD14',\n",
    "    'CD1a': 'CD1A',\n",
    "    'CD2': 'CD2',\n",
    "    'CD25': 'IL2RA',\n",
    "    'CD271': 'NGFR',\n",
    "    'CD3': ['CD3D', 'CD3E', 'CD3G'],\n",
    "    'CD36': 'CD36',\n",
    "    'CD4': 'CD4',\n",
    "    'CD44': 'CD44',\n",
    "    'CD45': 'PTPRC',\n",
    "    'CD45RA': 'CD45RA/PTPRC',\n",
    "    'CD45RO': 'CD45RO/PTPRC',\n",
    "    'CD5': 'CD5',\n",
    "    'CD56': 'NCAM1',\n",
    "    'CD6': 'CD6',\n",
    "    'CD63': 'CD63',\n",
    "    'CD66abce': ['CEACAM1', 'CEACAM8', 'CEACAM6', 'CEACAM5'],\n",
    "    'CD7': 'CD7',\n",
    "    'CD71': 'TFRC',\n",
    "    'CD8': ['CD8A', 'CD8B'],\n",
    "    'CD9': 'CD9',\n",
    "    'CD95': 'FAS',\n",
    "    'Collagen IV': ['COL4A1', 'COL4A2'],\n",
    "    'Cytokeratin-14': 'KRT14',\n",
    "    'EBF-P': 'EBF1',\n",
    "    'EGFR': 'EGFR',\n",
    "    'EGFR-AF488': 'EGFR',\n",
    "    'HLA-ABC': ['HLA-A', 'HLA-B', 'HLA-C'],\n",
    "    'HLA-DR': ['HLA-DRA', 'HLA-DRB1', 'HLA-DRB5', 'NFX1'],\n",
    "    'KIP1': 'CDKN1B',\n",
    "    'Ki67': 'MKI67',\n",
    "    'L302': 'NCR3LG1',\n",
    "    'MCSP': 'CSPG4',\n",
    "    'Melan-A': 'MLANA',\n",
    "    'Nestin-AF488': 'NES',\n",
    "    'Notch-1': 'NOTCH1',\n",
    "    'Notch-3': 'NOTCH3',\n",
    "    'PPARgamma': 'PPARG',\n",
    "    'PPB': 'PPB?',\n",
    "    'RIM3': 'RIMS3',\n",
    "    'TAP73': 'TP73',\n",
    "    'Vimentin': 'VIM',\n",
    "    'p63': 'TP63',\n",
    "    'phospho-Connexin': 'GJA1'\n",
    "}"
   ]
  },
  {
   "cell_type": "code",
   "execution_count": 5,
   "metadata": {
    "collapsed": false,
    "jupyter": {
     "outputs_hidden": false
    },
    "pycharm": {
     "name": "#%%\n"
    }
   },
   "outputs": [],
   "source": [
    "try:\n",
    "    adata = ad.read_h5ad(\"adata_THEORETIC.h5ad\")\n",
    "except:\n",
    "    x = pickle.load(open('/data_nfs/datasets/melc/melanoma/segmented/anndata_files/adata_cell.pickle', 'rb'))\n",
    "    dfs = list()\n",
    "    coords = dict()\n",
    "    for k in x:\n",
    "        anndata = x[k]\n",
    "        raw_df = pd.DataFrame(anndata.X, columns=anndata.var[\"gene_symbol\"])\n",
    "        df = pd.DataFrame()\n",
    "        \n",
    "        for c in raw_df.columns:\n",
    "            if c in [\"CD45RA\", \"CD45RO\", \"PPB\", 'CD66abce']:\n",
    "                continue\n",
    "            symbol = antibody_gene_symbols[c]\n",
    "            if isinstance(symbol, list):\n",
    "                for s in symbol:\n",
    "                    df[s] = raw_df[c]\n",
    "            else:\n",
    "                df[symbol] = raw_df[c]\n",
    "        \n",
    "        df[\"fov\"] = anndata.obsm[\"field_of_view\"]\n",
    "        df[\"condition\"] = anndata.obsm[\"Group\"]\n",
    "    \n",
    "        fov = np.unique(df[\"fov\"])[0]\n",
    "        if fov in ['Melanoma_29_202006031146_1', 'Melanoma_29_202006031146_2',\n",
    "           'Melanoma_29_202006031146_3', 'Melanoma_29_202006031146_4',\n",
    "                 'Nevi_01_201712121140_1', 'Nevi_01_201712121140_2',\n",
    "                 'Melanoma_35_202009031055_1', 'Melanoma_35_202009031055_2',\n",
    "           'Melanoma_35_202009031055_3', 'Melanoma_35_202009031055_4']:\n",
    "            continue\n",
    "        dfs.append(df) \n",
    "        coords[fov] = (x[k].uns[\"cell_coordinates\"])\n",
    "    \n",
    "    \n",
    "    \n",
    "    df = pd.concat(dfs, ignore_index=True)\n",
    "    df = df.dropna(axis=\"columns\")\n",
    "    \n",
    "    adata = ad.AnnData(df.drop([\"fov\", \"condition\"], axis=\"columns\"))\n",
    "    adata.vars = list(df.drop([\"fov\", \"condition\"], axis=\"columns\").columns)\n",
    "    adata.var_names = list(df.drop([\"fov\", \"condition\"], axis=\"columns\").columns)\n",
    "    adata.obs[\"field_of_view\"] = list(df[\"fov\"].astype(str))\n",
    "    adata.obs[\"condition\"] = list(df[\"condition\"].astype(str))\n",
    "    adata.obs_names = [f\"Cell_{i:d}\" for i in range(adata.n_obs)]    \n",
    "    #adata.uns[\"cell_coordinates\"] = coords\n",
    "    #sc.pp.neighbors(adata)\n",
    "    #sc.tl.umap(adata)\n",
    "    #sc.tl.pca(adata)"
   ]
  },
  {
   "cell_type": "code",
   "execution_count": 6,
   "metadata": {
    "collapsed": false,
    "jupyter": {
     "outputs_hidden": false
    },
    "pycharm": {
     "name": "#%%\n"
    }
   },
   "outputs": [],
   "source": [
    "try:\n",
    "    reference = pd.read_csv(\"skin_reference.csv\", index_col=\"Unnamed: 0\")\n",
    "except:\n",
    "    reference = th.get_hpa_reference('skin')\n",
    "    usable_genes = [c for c in reference.columns if c in adata.var_names]\n",
    "    reference = reference[usable_genes]"
   ]
  },
  {
   "cell_type": "code",
   "execution_count": 7,
   "metadata": {},
   "outputs": [],
   "source": [
    "quality_dict = np.load(os.path.join(base, \"je30bery/melanoma_data/qualtiy_assessment/quality.npy\"), allow_pickle=True).item()\n",
    "k = np.array(list(quality_dict.keys()))\n",
    "v = np.array(list(quality_dict.values()))\n",
    "high_quality = k[np.where(v == \"2\")]"
   ]
  },
  {
   "cell_type": "code",
   "execution_count": 8,
   "metadata": {},
   "outputs": [],
   "source": [
    "adata = adata[adata.obs[\"field_of_view\"].isin(high_quality)]"
   ]
  },
  {
   "cell_type": "code",
   "execution_count": 9,
   "metadata": {},
   "outputs": [
    {
     "data": {
      "text/plain": [
       "array(['Melanoma_02_201802161126_1', 'Melanoma_02_201802161126_4',\n",
       "       'Melanoma_07_201905161343_2', 'Melanoma_08_201905241311_1',\n",
       "       'Melanoma_08_201905241311_2', 'Melanoma_09_201905291344_2',\n",
       "       'Melanoma_10_201905291345_2', 'Melanoma_10_201905291345_3',\n",
       "       'Melanoma_10_201905291345_4', 'Melanoma_11_201906261422_1',\n",
       "       'Melanoma_12_201907031137_2', 'Melanoma_13_201907111415_1',\n",
       "       'Melanoma_13_201907111415_2', 'Melanoma_13_201907111415_3',\n",
       "       'Melanoma_13_201907111415_4', 'Melanoma_14_201907111432_1',\n",
       "       'Melanoma_14_201907111432_2', 'Melanoma_14_201907111432_3',\n",
       "       'Melanoma_14_201907111432_4', 'Melanoma_16_201908011518_1',\n",
       "       'Melanoma_16_201908011518_4', 'Melanoma_17_201909111532_1',\n",
       "       'Melanoma_17_201909111532_3', 'Melanoma_17_201909111532_4',\n",
       "       'Melanoma_18_201909111536_1', 'Melanoma_18_201909111536_2',\n",
       "       'Melanoma_18_201909111536_3', 'Melanoma_18_201909111536_4',\n",
       "       'Melanoma_19_201910151344_1', 'Melanoma_19_201910151344_2',\n",
       "       'Melanoma_20_201910231430_3', 'Melanoma_20_201910231430_4',\n",
       "       'Melanoma_21_202003031436_4', 'Melanoma_22_202003091404_2',\n",
       "       'Melanoma_22_202003091404_3', 'Melanoma_22_202003091404_4',\n",
       "       'Melanoma_23_202003251552_1', 'Melanoma_23_202003251552_2',\n",
       "       'Melanoma_24_202004021245_1', 'Melanoma_24_202004021245_3',\n",
       "       'Melanoma_24_202004021245_4', 'Melanoma_25_202004091556_4',\n",
       "       'Melanoma_26_202004221438_2', 'Melanoma_26_202004221438_3',\n",
       "       'Melanoma_26_202004221438_4', 'Melanoma_27_202004301203_1',\n",
       "       'Melanoma_27_202004301203_2', 'Melanoma_27_202004301203_3',\n",
       "       'Melanoma_27_202004301203_4', 'Melanoma_28_202005071402_3',\n",
       "       'Melanoma_28_202005071402_4', 'Melanoma_30_202007020851_4',\n",
       "       'Melanoma_33_202007211656_3', 'Melanoma_33_202007211656_4',\n",
       "       'Melanoma_34_202007281047_3', 'Melanoma_36_202009111023_2',\n",
       "       'Melanoma_36_202009111023_3', 'Melanoma_36_202009111023_4',\n",
       "       'Melanoma_37_202009181022_1', 'Melanoma_37_202009181022_2',\n",
       "       'Melanoma_39_202010141128_1', 'Melanoma_39_202010141128_2',\n",
       "       'Melanoma_39_202010141128_3', 'Melanoma_40_202010211055_2',\n",
       "       'Melanoma_40_202010211055_3', 'Melanoma_41_202010211103_1',\n",
       "       'Melanoma_41_202010211103_2', 'Nevi_03_201802011633_1',\n",
       "       'Nevi_03_201802011633_2', 'Nevi_03_201802011633_3',\n",
       "       'Nevi_03_201802011633_4', 'Nevi_04_201802051539_3',\n",
       "       'Nevi_06_201807121408_1', 'Nevi_06_201807121408_3',\n",
       "       'Nevi_06_201807121408_4', 'Nevi_07_201807231100_1',\n",
       "       'Nevi_07_201807231100_2', 'Nevi_07_201807231100_3',\n",
       "       'Nevi_08_201808021309_1', 'Nevi_08_201808021309_2',\n",
       "       'Nevi_08_201808021309_3', 'Nevi_09_201808161438_1',\n",
       "       'Nevi_09_201808161438_2', 'Nevi_09_201808161438_3',\n",
       "       'Nevi_09_201808161438_4', 'Nevi_10_201811131523_1',\n",
       "       'Nevi_10_201811131523_2', 'Nevi_10_201811131523_3',\n",
       "       'Nevi_10_201811131523_4', 'Nevi_11_201904251621_3',\n",
       "       'Nevi_11_201904251621_4', 'Nevi_13_201905241311_3',\n",
       "       'Nevi_13_201905241311_4', 'Nevi_14_201905291344_3',\n",
       "       'Nevi_14_201905291344_4', 'Nevi_15_201910021125_1',\n",
       "       'Nevi_15_201910021125_2', 'Nevi_15_201910021125_3',\n",
       "       'Nevi_15_201910021125_4', 'Nevi_16_201910151344_3',\n",
       "       'Nevi_16_201910151344_4', 'Nevi_18_202007020851_2',\n",
       "       'Nevi_20_202012021518_1', 'Nevi_20_202012021518_2',\n",
       "       'Nevi_20_202012021518_3', 'Nevi_20_202012021518_4'], dtype=object)"
      ]
     },
     "execution_count": 9,
     "metadata": {},
     "output_type": "execute_result"
    }
   ],
   "source": [
    "np.unique(adata.obs[\"field_of_view\"])"
   ]
  },
  {
   "cell_type": "code",
   "execution_count": 10,
   "metadata": {},
   "outputs": [],
   "source": [
    "cell_types = sorted(list(reference.index))\n",
    "pal = sns.color_palette(\"hls\", len(np.unique(cell_types)))\n",
    "cell_type_colors = {ct: pal[i] for i, ct in enumerate(cell_types)}"
   ]
  },
  {
   "cell_type": "code",
   "execution_count": 20,
   "metadata": {
    "collapsed": true,
    "jupyter": {
     "outputs_hidden": true
    },
    "scrolled": true
   },
   "outputs": [
    {
     "name": "stdout",
     "output_type": "stream",
     "text": [
      "double ['PPARG']\n",
      "double ['PPARG']\n",
      "double ['PPARG']\n",
      "double ['PPARG']\n",
      "double ['PPARG']\n",
      "double ['PPARG']\n",
      "double ['PPARG']\n",
      "double ['PPARG']\n",
      "double ['PPARG']\n",
      "double ['PPARG']\n",
      "double ['PPARG']\n",
      "double ['PPARG']\n",
      "double ['PPARG']\n",
      "double ['PPARG']\n",
      "double ['PPARG']\n",
      "double ['PPARG']\n",
      "double ['PPARG']\n",
      "double ['PPARG']\n",
      "double ['PPARG']\n",
      "double ['PPARG']\n",
      "double ['PPARG']\n",
      "double ['PPARG']\n",
      "double ['PPARG']\n",
      "double ['PPARG']\n",
      "double ['PPARG']\n",
      "double ['PPARG']\n",
      "double ['PPARG']\n",
      "double ['PPARG']\n",
      "double ['PPARG']\n",
      "double ['PPARG']\n",
      "double ['PPARG']\n",
      "double ['PPARG']\n",
      "double ['PPARG']\n",
      "double ['PPARG']\n",
      "double ['PPARG']\n",
      "double ['PPARG']\n",
      "double ['PPARG']\n",
      "double ['PPARG']\n",
      "double ['PPARG']\n",
      "double ['PPARG']\n",
      "double ['PPARG']\n",
      "double ['PPARG']\n",
      "double ['PPARG']\n",
      "double ['PPARG']\n",
      "double ['PPARG']\n",
      "double ['PPARG']\n",
      "double ['PPARG']\n",
      "double ['PPARG']\n",
      "double ['PPARG']\n",
      "double ['PPARG']\n",
      "double ['PPARG']\n",
      "double ['PPARG']\n",
      "double ['PPARG']\n",
      "double ['PPARG']\n",
      "double ['PPARG']\n",
      "double ['PPARG']\n",
      "double ['PPARG']\n",
      "double ['PPARG']\n",
      "double ['PPARG']\n",
      "double ['PPARG']\n",
      "double ['PPARG']\n",
      "double ['PPARG']\n",
      "double ['PPARG']\n",
      "double ['PPARG']\n",
      "double ['PPARG']\n",
      "double ['PPARG']\n",
      "double ['PPARG']\n",
      "double ['PPARG']\n",
      "double ['PPARG']\n",
      "double ['PPARG']\n",
      "double ['PPARG']\n",
      "double ['PPARG']\n",
      "double ['PPARG']\n",
      "double ['PPARG']\n",
      "double ['PPARG']\n",
      "double ['PPARG']\n",
      "double ['PPARG']\n",
      "double ['PPARG']\n",
      "double ['PPARG']\n",
      "double ['PPARG']\n",
      "double ['PPARG']\n",
      "double ['PPARG']\n",
      "double ['PPARG']\n",
      "double ['PPARG']\n",
      "double ['PPARG']\n",
      "double ['PPARG']\n",
      "double ['PPARG']\n",
      "double ['PPARG']\n",
      "double ['PPARG']\n"
     ]
    }
   ],
   "source": [
    "samples = dict()\n",
    "all_cells = list()\n",
    "\n",
    "for hq in high_quality:\n",
    "    samples[hq] = adata[adata.obs[\"field_of_view\"] == hq].copy()\n",
    "    if len(samples[hq]) == 0:\n",
    "        del samples[hq]\n",
    "\n",
    "for hq in samples.keys():\n",
    "    if \"Nevi_03\" in hq:\n",
    "        continue\n",
    "    tree = th.identify_cell_types(samples[hq], reference.copy(), min_fold_change=2, z_score_cutoff=1.96/4)\n",
    "    #for st in tree.split_tuples:\n",
    "    #    print(st.cell_type, st.mapped_genes)\n",
    "    cell_types = list(samples[hq].obs[\"cell_type\"])\n",
    "    all_cells += cell_types\n",
    "    p = os.path.join(base, \"je30bery/melanoma_data/MAGICAL/data/cell_types\", )\n",
    "    with open(os.path.join(p, hq + \"_cell_types.pkl\"), \"wb\") as fp:   \n",
    "        pickle.dump(cell_types, fp)\n",
    "\n",
    "    #samples[hq].write_h5ad(f\"./sample_wise_results/cell_types_{hq}.h5ad\")\n",
    "    plot = 0\n",
    "    if plot:\n",
    "        # for i in range(len(ROIS)):\n",
    "        fov = hq\n",
    "        segmented = os.path.join(data, \"segmented\", f'{fov}_cells.npy')\n",
    "        with open(segmented, \"rb\") as openfile:\n",
    "            seg_file = np.load(openfile)\n",
    "            \n",
    "        cell_types = samples[hq][samples[hq].obs[\"field_of_view\"] == fov].obs[\"cell_type\"]\n",
    "        assert len(cell_types) > 0, \"no cells found for this fov\"\n",
    "        assert len(np.unique(seg_file.flatten())) == len(cell_types) + 1\n",
    "        \n",
    "        cell_types_on_seg = np.zeros((seg_file.shape[0], seg_file.shape[1], 3))\n",
    "        for i, cell in enumerate(np.unique(seg_file.flatten())):\n",
    "            if cell == 0:\n",
    "                continue\n",
    "            cell_types_on_seg[np.where(seg_file == cell)] = cell_type_colors[cell_types[i - 1]]\n",
    "        \n",
    "        prop_iodide = cv2.imread([os.path.join(data, \"processed\", fov, f) for f in os.listdir(os.path.join(data, \"processed\", fov)) if \"propidium\" in f.lower()][0])\n",
    "        \n",
    "        plt.figure(figsize=(10,10))\n",
    "        plt.imshow(cv2.addWeighted(prop_iodide, 0.4, (cell_types_on_seg * 255).astype(np.uint8), 0.6, 0))\n",
    "        legend_handles = [Patch(color=color, label=key) for key, color in cell_type_colors.items()]\n",
    "        \n",
    "        # Create a dummy plot to show the legend\n",
    "        plt.scatter([], [], label='Legend', alpha=0)  # Create an invisible point for the legend\n",
    "        plt.legend(handles=legend_handles, loc=(1.01, 0.7))\n",
    "        plt.title(fov)\n",
    "    \n",
    "        plt.tight_layout()\n",
    "        plt.axis(\"off\")\n",
    "        plt.savefig(f\"./examples/cell_type_analysis_{fov}_cells.png\")\n",
    "        #plt.show()"
   ]
  },
  {
   "cell_type": "code",
   "execution_count": 24,
   "metadata": {},
   "outputs": [],
   "source": [
    "df = pd.DataFrame(sorted(all_cells), columns=[\"cell_type\"])"
   ]
  },
  {
   "cell_type": "code",
   "execution_count": 34,
   "metadata": {
    "scrolled": true
   },
   "outputs": [
    {
     "data": {
      "image/png": "[encoded data removed]",
      "text/plain": [
       "<Figure size 640x480 with 1 Axes>"
      ]
     },
     "metadata": {},
     "output_type": "display_data"
    }
   ],
   "source": [
    "sns.histplot(df, x=\"cell_type\", hue=\"cell_type\", palette=cell_type_colors, shrink=0.7)\n",
    "plt.xticks(rotation=45, ha=\"right\")\n",
    "plt.title(f\"Cell type distribution across {len(samples)} samples, {len(all_cells)} cells\")\n",
    "plt.tight_layout()\n",
    "plt.legend('', frameon=False)\n",
    "plt.savefig(\"../result_plots/cell_types.pdf\")"
   ]
  },
  {
   "cell_type": "code",
   "execution_count": null,
   "metadata": {},
   "outputs": [],
   "source": []
  }
 ],
 "metadata": {
  "kernelspec": {
   "display_name": "Python 3 (ipykernel)",
   "language": "python",
   "name": "python3"
  },
  "language_info": {
   "codemirror_mode": {
    "name": "ipython",
    "version": 3
   },
   "file_extension": ".py",
   "mimetype": "text/x-python",
   "name": "python",
   "nbconvert_exporter": "python",
   "pygments_lexer": "ipython3",
   "version": "3.9.17"
  }
 },
 "nbformat": 4,
 "nbformat_minor": 4
}
