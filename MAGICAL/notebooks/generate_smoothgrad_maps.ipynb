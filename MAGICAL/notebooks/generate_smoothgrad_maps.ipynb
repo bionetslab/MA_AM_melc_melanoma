{
 "cells": [
  {
   "cell_type": "code",
   "execution_count": 1,
   "id": "fa3056e4-8cbb-452e-9ee7-c2d318db173b",
   "metadata": {},
   "outputs": [],
   "source": [
    "base = \"/data_nfs/\""
   ]
  },
  {
   "cell_type": "code",
   "execution_count": 2,
   "id": "5aacb9d1-181f-4064-9069-c75d67a67a9a",
   "metadata": {
    "scrolled": true
   },
   "outputs": [],
   "source": [
    "import torch as t\n",
    "#from pytorch_grad_cam import GradCAM\n",
    "#from pytorch_grad_cam.utils.image import show_cam_on_image\n",
    "#from pytorch_grad_cam.utils.model_targets import ClassifierOutputTarget\n",
    "import cv2 \n",
    "import sys\n",
    "import os\n",
    "from sklearn.mixture import GaussianMixture\n",
    "import seaborn as sns\n",
    "\n",
    "sys.path.append(os.path.join(base, \"je30bery/melanoma_data/MAGICAL/model/\"))\n",
    "from data import MelanomaData\n",
    "import numpy as np\n",
    "from IPython.display import clear_output, display\n",
    "import matplotlib.pyplot as plt\n",
    "from skimage.segmentation import mark_boundaries\n",
    "import pickle\n",
    "import pandas as pd\n",
    "plt.style.use('dark_background')\n",
    "os.environ[\"CUDA_VISIBLE_DEVICES\"]=\"1\"\n",
    "sys.path.append(\"../../MAGICAL/data_utils\")\n",
    "from data_utils import *"
   ]
  },
  {
   "cell_type": "code",
   "execution_count": 3,
   "id": "3194af4f-16d1-49f2-a254-b8eb7c3f387e",
   "metadata": {},
   "outputs": [],
   "source": [
    "markers = ['ADAM10', 'Bcl-2', 'CD10', 'CD107a', 'CD13', 'CD138', 'CD14', 'CD1a', 'CD2', 'CD25', 'CD271', 'CD3', 'CD36', 'CD4', 'CD44', 'CD45', 'CD45RA', 'CD45RO', 'CD5', 'CD56', 'CD6', 'CD63', 'CD66abce', 'CD7', 'CD71', 'CD8', 'CD9', 'CD95', 'Collagen IV', 'Cytokeratin-14', 'EBF-P', 'EGFR', 'EGFR-AF488', 'HLA-ABC', 'HLA-DR', 'KIP1', 'Ki67', 'L302', 'MCSP', 'Melan-A', 'Nestin-AF488', 'Notch-1', 'Notch-3', 'PPARgamma', 'PPB', 'RIM3', 'TAP73', 'Vimentin', 'p63', 'phospho-Connexin']    \n",
    "#from model import EfficientnetWithFinetuning\n",
    "model = t.load(\"/data_nfs/je30bery/melanoma_data/model/model_2024-01-29 17:37:18.558634.pt\", map_location=\"cuda:0\")\n",
    "\n",
    "#model = EfficientnetWithFinetuning(indim=len(markers))\n",
    "#model.load_state_dict(t.load(\"/data_nfs/je30bery/melanoma_data/model/training/saved_models/model_2023-11-20 16:27:56.558630_f1=0.9260606060606061_acc=0.9166666666666666_11.pt\"))"
   ]
  },
  {
   "cell_type": "code",
   "execution_count": 4,
   "id": "1e5becc9-7c58-4f2d-9d1f-aa58dfd8e736",
   "metadata": {},
   "outputs": [],
   "source": [
    "%load_ext autoreload\n",
    "%autoreload 2"
   ]
  },
  {
   "cell_type": "code",
   "execution_count": 5,
   "id": "8dd7ac16-429e-4aff-8188-7f867b7aa3bf",
   "metadata": {},
   "outputs": [],
   "source": [
    "sys.path.append(\"../../MAGICAL/smoothgrad\")\n",
    "\n",
    "from individual_channel_gradcam import GradCAM"
   ]
  },
  {
   "cell_type": "code",
   "execution_count": 6,
   "id": "20974022-b818-4d63-8a73-a1e18bb6d155",
   "metadata": {},
   "outputs": [],
   "source": [
    "use_rois = False\n",
    "rois = [os.path.splitext(f)[0][7:] for f in os.listdir(os.path.join(base, \"je30bery/melanoma_data/ROI/filled\")) if \"filled\" in f]"
   ]
  },
  {
   "cell_type": "code",
   "execution_count": 7,
   "id": "9159f9b7-eedb-4d58-b9b7-5f016dd9e025",
   "metadata": {},
   "outputs": [],
   "source": [
    "data = get_data_csv(base)\n",
    "data = data.reset_index()"
   ]
  },
  {
   "cell_type": "code",
   "execution_count": 8,
   "id": "2556da14-7515-45c4-9c9f-97b243d17b32",
   "metadata": {},
   "outputs": [],
   "source": [
    "#changed = [\"Melanoma_16_201908011518_4\",\n",
    "#\"Melanoma_17_201909111532_4\",\n",
    "#\"Melanoma_22_202003091404_4\",\n",
    "#\"Melanoma_24_202004021245_3\",\n",
    "#\"Melanoma_36_202009111023_3\",\n",
    "#\"Melanoma_39_202010141128_1\",\n",
    "#\"Nevi_10_201811131523_4\",\n",
    "#\"Nevi_16_201910151344_4\"]\n",
    "#data = data[data[\"file_path\"].isin(changed)]"
   ]
  },
  {
   "cell_type": "code",
   "execution_count": 9,
   "id": "f432572a-f97c-4262-bc26-261c41892996",
   "metadata": {},
   "outputs": [],
   "source": [
    "def get_binary(v, seg_file):\n",
    "    v = v / np.max(v) * 255\n",
    "    binary = cv2.resize(v.astype(np.uint8), (2018, 2018))\n",
    "    _, binary = cv2.threshold(binary, 0, 255, cv2.THRESH_BINARY+cv2.THRESH_OTSU)\n",
    "    roi_segments = np.unique((binary > 0) * seg_file)\n",
    "    roi_seg_file = (np.where(np.isin(seg_file, roi_segments), seg_file, 0) > 0) * 255\n",
    "    roi_seg_file = cv2.resize(roi_seg_file.astype(np.uint8), (512, 512))\n",
    "    return roi_seg_file / 255., roi_segments"
   ]
  },
  {
   "cell_type": "code",
   "execution_count": 10,
   "id": "ef3d2f49-6616-48d0-875d-4b00a381b13e",
   "metadata": {},
   "outputs": [],
   "source": [
    "model = model.cuda()"
   ]
  },
  {
   "cell_type": "code",
   "execution_count": 11,
   "id": "03d3dd98-737a-49b3-8036-4b266dfbcfe1",
   "metadata": {},
   "outputs": [
    {
     "name": "stdout",
     "output_type": "stream",
     "text": [
      "5\n"
     ]
    }
   ],
   "source": [
    "if use_rois:\n",
    "    vis = np.load(\"visualizations_regressor.npy\", allow_pickle=True).item()\n",
    "else:\n",
    "    model.eval()    \n",
    "    vis = dict()\n",
    "    for layer in [5]:\n",
    "        vis[layer] = dict()\n",
    "        print(layer)\n",
    "        GradC = GradCAM(model=model, target_layer=layer, mode=\"in\")\n",
    "        dl = t.utils.data.DataLoader(MelanomaData(markers, dataset=\"Melanoma\", data=data, mode=\"val\"), batch_size=1, shuffle=False)\n",
    "        it = iter(dl)\n",
    "        visualizations = list()\n",
    "        d = 0\n",
    "        while True:\n",
    "            try:\n",
    "                fov = data.iloc[d][\"file_path\"] \n",
    "                path = os.path.join(base, f\"je30bery/melanoma_data/MAGICAL/data/ROIs/regression_model/{layer}/\")\n",
    "                os.makedirs(path, exist_ok=True)\n",
    "                path = os.path.join(path, fov + \"_binary.npy\")\n",
    "                #if os.path.exists(path):\n",
    "                #    vis[layer][d] = np.load(path)\n",
    "                #    print(\"skipping\", fov)\n",
    "                #    if layer != 5:\n",
    "                #        continue\n",
    "                input_t, label = next(it)\n",
    "                \n",
    "            except:\n",
    "                break\n",
    " \n",
    "            input_t.requires_grad = True\n",
    "            segmented = os.path.join(base, \"datasets/melc/melanoma/\", \"segmented\", f'{fov}_cells.npy')\n",
    "            with open(segmented, \"rb\") as openfile:\n",
    "                seg_file = np.load(openfile)\n",
    "            \n",
    "            gc = GradC.cam(input_t.cuda(), n_smooth=10)  \n",
    "            if layer == 0:\n",
    "                gc = gc * input_t.detach().cpu().numpy()\n",
    "                gc *= (gc > 0)\n",
    "            gc = np.mean(gc, axis=(0,1))\n",
    "            binary, roi_segments = get_binary(gc, seg_file)\n",
    "            vis[layer][d] = binary\n",
    "            d += 1\n",
    "\n",
    "            path = os.path.join(base, f\"je30bery/melanoma_data/MAGICAL/data/ROIs/regression_model/{layer}/\")\n",
    "            np.save(os.path.join(path, fov + \"_binary.npy\"), binary)\n",
    "            with open(os.path.join(path, fov + \"_idxs.pkl\"), \"wb\") as fp:   \n",
    "                pickle.dump(roi_segments, fp)"
   ]
  },
  {
   "cell_type": "code",
   "execution_count": 12,
   "id": "756cf8f3-b0a3-4794-adfe-d8070d80a91c",
   "metadata": {},
   "outputs": [
    {
     "ename": "NameError",
     "evalue": "name 'datasdf' is not defined",
     "output_type": "error",
     "traceback": [
      "\u001b[0;31m---------------------------------------------------------------------------\u001b[0m",
      "\u001b[0;31mNameError\u001b[0m                                 Traceback (most recent call last)",
      "Cell \u001b[0;32mIn[12], line 1\u001b[0m\n\u001b[0;32m----> 1\u001b[0m \u001b[43mdatasdf\u001b[49m\n",
      "\u001b[0;31mNameError\u001b[0m: name 'datasdf' is not defined"
     ]
    }
   ],
   "source": [
    "datasdf"
   ]
  },
  {
   "cell_type": "code",
   "execution_count": null,
   "id": "f84709be-a7b9-493c-b21d-602989881fdc",
   "metadata": {
    "scrolled": true
   },
   "outputs": [],
   "source": [
    "for d in range(len(data)):\n",
    "    fov = data.iloc[d][\"file_path\"]\n",
    "    print(d, fov)\n",
    "    for combination in [range(4), range(5), range(6)]:\n",
    "        v_combined = np.ndarray((len(combination), 2018, 2018))\n",
    "        for j in range(len(combination)):\n",
    "            v_combined[j] = cv2.resize(vis[j][d], (2018, 2018))\n",
    "        v = v_combined.mean(axis=0)\n",
    "        binary, roi_segments = get_binary(v, seg_file)\n",
    "        path = os.path.join(base, f\"je30bery/melanoma_data/MAGICAL/data/ROIs/classification_model/combined_0-{len(combination)-1}/\")\n",
    "        path = os.path.join(path, fov + \"_binary.npy\")\n",
    "        np.save(path, binary)\n",
    "        with open(os.path.join(os.path.join(base, f\"je30bery/melanoma_data/MAGICAL/data/ROIs/classification_model/combined_0-{len(combination)-1}/\"), fov + \"_idxs.pkl\"), \"wb\") as fp:   \n",
    "            pickle.dump(roi_segments, fp)\n",
    "            print(\"dumped\", fov)"
   ]
  },
  {
   "cell_type": "code",
   "execution_count": null,
   "id": "762490a3-f429-40a2-a2a3-9ccfb56980bf",
   "metadata": {},
   "outputs": [],
   "source": [
    "#dl = t.utils.data.DataLoader(MelanomaData(markers, dataset, data, mode=\"val\"), batch_size=1, shuffle=False)\n",
    "#it = iter(dl)\n",
    "plot = False\n",
    "use_rois = True\n",
    "\n",
    "ious = pd.DataFrame()\n",
    "if 1:\n",
    "    for d in range(len(data)):\n",
    "        fov = data.iloc[d][\"file_path\"]\n",
    "        segmented = os.path.join(base, \"datasets/melc/melanoma/\", \"segmented\", f'{fov}_cells.npy')\n",
    "        with open(segmented, \"rb\") as openfile:\n",
    "            seg_file = np.load(openfile)\n",
    "        \n",
    "        if use_rois:\n",
    "            roi = cv2.imread(os.path.join(base, f\"je30bery/melanoma_data/ROI/filled/filled_{fov}.tif\"), cv2.IMREAD_GRAYSCALE)\n",
    "            roi = cv2.resize(roi, (512, 512))\n",
    "            if d == 5:\n",
    "                roi = (roi > 15).astype(float)\n",
    "            else:\n",
    "                roi = (roi > 0).astype(float)\n",
    "        \n",
    "        bins = dict()\n",
    "        i = 0\n",
    "        for layer in range(9):\n",
    "            if layer < 6:\n",
    "                v = vis[layer][d]\n",
    "                binary = get_binary(v, seg_file)\n",
    "                \n",
    "            else:\n",
    "                v_combined = np.ndarray((layer - 2, 2018, 2018))\n",
    "                for j in range(layer - 2):\n",
    "                    v_combined[j] = cv2.resize(vis[j][d], (2018, 2018))\n",
    "                v = v_combined.mean(axis=0)\n",
    "                binary = get_binary(v, seg_file)\n",
    "\n",
    "            bins[i] = binary\n",
    "            i += 1\n",
    "            path = os.path.join(base, f\"je30bery/melanoma_data/model/GradCam/ROIs/{layer}/\")\n",
    "            os.makedirs(path, exist_ok=True)\n",
    "            path = os.path.join(path, fov + \"binary.npy\")\n",
    "            np.save(path, binary)\n",
    "            if use_rois:\n",
    "                ious.loc[d, layer] = intersection_over_union(binary, roi)\n",
    "        \"\"\"\n",
    "        for i in range(9):\n",
    "            for j in range(9):\n",
    "                if j <= i:\n",
    "                    continue\n",
    "                print(i, j)\n",
    "                combined_vis = vis[i][0][d] + vis[j][0][d] \n",
    "                binary = combined_vis > get_cutoff(combined_vis)\n",
    "                binary = bins[i] * bins[j]\n",
    "                ious.loc[d, f\"{i}*{j}\"] = intersection_over_union(binary, roi)\n",
    "        \"\"\"\n",
    "        if plot:\n",
    "            f, axs = plt.subplots(3, 3, figsize=(10, 10))\n",
    "            i = 0\n",
    "            for layer in range(9):\n",
    "                \n",
    "                if i >= 6:\n",
    "                    rgb = np.array([np.zeros_like(bins[i]), bins[i], roi]).transpose((1, 2, 0))\n",
    "                else:\n",
    "                    rgb = np.array([bins[i], np.zeros_like(bins[i]), roi]).transpose((1, 2, 0))\n",
    "                axs[i // 3, i % 3].imshow(rgb)\n",
    "                axs[i // 3, i % 3].axis(\"off\")\n",
    "                i += 1\n",
    "            plt.show()\n",
    "            _ = input(\"Proceed\")\n",
    "            \n",
    "            clear_output(wait=True)\n",
    "            "
   ]
  },
  {
   "cell_type": "code",
   "execution_count": null,
   "id": "981093ca-0de6-4344-90d8-c4a8e068604d",
   "metadata": {},
   "outputs": [],
   "source": [
    "#layer = 7\n",
    "data = data#data = data[data[\"file_path\"].isin(changed)]\n",
    "f, axs = plt.subplots(4,4, figsize=(15,15))\n",
    "for d in range(len(data)):\n",
    "    fov = data.iloc[d][\"file_path\"]\n",
    "    segmented = os.path.join(base, \"datasets/melc/melanoma/\", \"segmented\", f'{fov}_cells.npy')\n",
    "    with open(segmented, \"rb\") as openfile:\n",
    "        seg_file = np.load(openfile)\n",
    "     \n",
    "    roi = cv2.imread(os.path.join(base, f\"je30bery/melanoma_data/ROI/filled/filled_{fov}.tif\"), cv2.IMREAD_GRAYSCALE)\n",
    "    roi = cv2.resize(roi, (512, 512))\n",
    "    if d == 5:\n",
    "        roi = (roi > 15).astype(float)\n",
    "    else:\n",
    "        roi = (roi > 0).astype(float)\n",
    "    #v = vis[layer][d]\n",
    "    v_combined = np.ndarray((4, 2018, 2018))\n",
    "    for j in range(4):\n",
    "        v_combined[j] = cv2.resize(vis[j][d], (2018, 2018))\n",
    "    v = v_combined.mean(axis=0)\n",
    "    binary = get_binary(v, seg_file)\n",
    "    binary = get_binary(v, seg_file)\n",
    "    rgb = np.array([binary, np.zeros_like(binary), roi]).transpose((1, 2, 0))\n",
    "    axs[d // 4, d % 4].imshow(rgb)\n",
    "    axs[d // 4, d % 4].axis(\"off\")\n",
    "    axs[d // 4, d % 4].set_title(fov)\n",
    "plt.show()"
   ]
  },
  {
   "cell_type": "code",
   "execution_count": null,
   "id": "fc193fc8-c137-4868-a57d-0698f3beea65",
   "metadata": {},
   "outputs": [],
   "source": [
    "def get_gaussian(x, mu, sigma):\n",
    "    return 1/(np.sqrt(2 * np.pi) * sigma) * np.exp(-0.5 * (x - mu)**2 / sigma**2)\n",
    "    \n",
    "def get_cutoff(visualization):\n",
    "    gm_bimodal = GaussianMixture(n_components=2).fit(visualization.flatten()[np.newaxis].T)\n",
    "    x = np.linspace(0, 1, 10000)\n",
    "    y1 = get_gaussian(x, gm_bimodal.means_[0], gm_bimodal.covariances_[0, 0, 0])\n",
    "    y2 = get_gaussian(x, gm_bimodal.means_[1], gm_bimodal.covariances_[1, 0, 0])\n",
    "    intersect = x[np.argmin(np.abs(y1-y2))]\n",
    "    return th2, intersect"
   ]
  },
  {
   "cell_type": "code",
   "execution_count": null,
   "id": "f6c875bd-44ca-4609-9445-45b83fa59c1e",
   "metadata": {},
   "outputs": [],
   "source": [
    "def intersection_over_union(a, b):\n",
    "    intersection = np.sum(np.logical_and(a, b))\n",
    "    union = np.sum(np.logical_or(a, b))\n",
    "    return intersection/union"
   ]
  },
  {
   "cell_type": "code",
   "execution_count": null,
   "id": "ee99461d-a946-416e-b50b-6058dfc65b41",
   "metadata": {},
   "outputs": [],
   "source": [
    "plt.imshow(seg_file)"
   ]
  },
  {
   "cell_type": "code",
   "execution_count": null,
   "id": "ceb759bf-43b8-4d16-a13a-b8a46defdfe0",
   "metadata": {},
   "outputs": [],
   "source": [
    "plt.figure(figsize=(20, 5))\n",
    "plt.xticks(rotation=90)\n",
    "sns.boxplot(ious)"
   ]
  },
  {
   "cell_type": "code",
   "execution_count": null,
   "id": "cce1d518-9340-48dc-8da5-65d525141a2d",
   "metadata": {},
   "outputs": [],
   "source": [
    "ious.mean(axis=0)"
   ]
  },
  {
   "cell_type": "code",
   "execution_count": null,
   "id": "bff88ca5-9d25-431a-8a43-ade8fd069bae",
   "metadata": {},
   "outputs": [],
   "source": [
    "ious"
   ]
  },
  {
   "cell_type": "code",
   "execution_count": null,
   "id": "b0cd5ee3-7022-4e3f-b91a-033657c6ee82",
   "metadata": {},
   "outputs": [],
   "source": [
    "plt.figure(figsize=(20, 5))\n",
    "plt.xticks(rotation=90)\n",
    "sns.boxplot(ious)"
   ]
  },
  {
   "cell_type": "code",
   "execution_count": null,
   "id": "866b365a-15c2-4e12-9f15-2d2081d2043b",
   "metadata": {},
   "outputs": [],
   "source": [
    "ious.loc[\"mean\"] = ious.mean()\n",
    "# thresh 10, layer 4\n",
    "# thresh 1, layer 3\n",
    "# thresh 10, layer 6\n",
    "# thresh 10, layer 8\n",
    "# thresh 1, layer 2"
   ]
  },
  {
   "cell_type": "code",
   "execution_count": null,
   "id": "7f768268-01c5-4c03-a5b9-e0fe0bcb4b67",
   "metadata": {},
   "outputs": [],
   "source": [
    "plt.imshow(binary)"
   ]
  },
  {
   "cell_type": "code",
   "execution_count": null,
   "id": "2e79cb3e-6d92-446d-bd84-be58792a8fef",
   "metadata": {},
   "outputs": [],
   "source": [
    "ious.sort_values(\"mean\", axis=1, ascending=False)"
   ]
  },
  {
   "cell_type": "code",
   "execution_count": null,
   "id": "38900945-78d1-4fc8-838d-e68ff18894ad",
   "metadata": {},
   "outputs": [],
   "source": [
    "if 0:\n",
    "    f, axs = plt.subplots(3, 6, figsize=(18,9))\n",
    "    for i, k in enumerate(path_dict):\n",
    "        boundaries = cv2.resize((cv2.imread(path_dict[k], cv2.IMREAD_GRAYSCALE) > 0).astype(np.uint8), (512,512))\n",
    "        axs[int(i/6), i%6].imshow(mark_boundaries(visualizations[k], boundaries, color=(1,0,0)))\n",
    "        axs[int(i/6), i%6].axis(\"off\")\n",
    "        axs[int(i/6), i%6].set_title(k)\n",
    "    plt.suptitle(\"GradCAM results with marked expert annotations\")\n",
    "    plt.tight_layout()\n",
    "    plt.show()\n",
    "    #plt.savefig(\"gradcam_val.pdf\")"
   ]
  },
  {
   "cell_type": "code",
   "execution_count": null,
   "id": "422189ad-d24e-4691-ae29-46c3f17e2289",
   "metadata": {},
   "outputs": [],
   "source": [
    "if 0:\n",
    "    h, w = 13, 3\n",
    "    f, axs = plt.subplots(h, w, figsize=(15, 50))\n",
    "    for idx in range(len(vdata)):\n",
    "        axs[idx % h, int(idx / h)].imshow(visualizations[idx])\n",
    "        title = os.path.basename(vdata[idx]) #\"Melanoma\" if labels[idx] == 0 else \"Nevi\"\n",
    "        axs[idx % h, int(idx / h)].set_title(title)\n",
    "        axs[idx % h, int(idx / h)].axis(\"off\")\n",
    "    plt.savefig(\"gradcam_val.pdf\")\n",
    "    plt.show()"
   ]
  },
  {
   "cell_type": "code",
   "execution_count": null,
   "id": "04245cfd-a05a-4ed6-8e79-694382f67f96",
   "metadata": {},
   "outputs": [],
   "source": [
    "grayscale_cam.shape"
   ]
  },
  {
   "cell_type": "code",
   "execution_count": null,
   "id": "cbb591e2-1ab4-4298-811f-0fbbb6701d9e",
   "metadata": {},
   "outputs": [],
   "source": []
  },
  {
   "cell_type": "code",
   "execution_count": null,
   "id": "05b0df73-f23b-4e46-a0a2-77adefddf44e",
   "metadata": {},
   "outputs": [],
   "source": []
  },
  {
   "cell_type": "code",
   "execution_count": null,
   "id": "230b6406-a561-45ca-b3db-6340f93af0f5",
   "metadata": {},
   "outputs": [],
   "source": []
  }
 ],
 "metadata": {
  "kernelspec": {
   "display_name": "Python 3 (ipykernel)",
   "language": "python",
   "name": "python3"
  },
  "language_info": {
   "codemirror_mode": {
    "name": "ipython",
    "version": 3
   },
   "file_extension": ".py",
   "mimetype": "text/x-python",
   "name": "python",
   "nbconvert_exporter": "python",
   "pygments_lexer": "ipython3",
   "version": "3.9.17"
  }
 },
 "nbformat": 4,
 "nbformat_minor": 5
}
