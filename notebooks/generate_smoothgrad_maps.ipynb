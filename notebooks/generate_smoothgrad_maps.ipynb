{
 "cells": [
  {
   "cell_type": "code",
   "execution_count": null,
   "id": "5aacb9d1-181f-4064-9069-c75d67a67a9a",
   "metadata": {
    "scrolled": true
   },
   "outputs": [],
   "source": [
    "import os\n",
    "base = \"/data/bionets\" if \"ramses\" in os.uname()[1] else \"/data_nfs/\"\n",
    "\n",
    "import cv2 \n",
    "import sys\n",
    "import seaborn as sns\n",
    "import numpy as np\n",
    "import matplotlib.pyplot as plt\n",
    "import pickle\n",
    "import pandas as pd\n",
    "\n",
    "os.environ[\"CUDA_VISIBLE_DEVICES\"]=\"1\"\n",
    "sys.path.append(\"..\")\n",
    "from src import *"
   ]
  },
  {
   "cell_type": "code",
   "execution_count": null,
   "id": "1e5becc9-7c58-4f2d-9d1f-aa58dfd8e736",
   "metadata": {},
   "outputs": [],
   "source": [
    "%load_ext autoreload\n",
    "%autoreload 2"
   ]
  },
  {
   "cell_type": "code",
   "execution_count": null,
   "id": "3194af4f-16d1-49f2-a254-b8eb7c3f387e",
   "metadata": {},
   "outputs": [],
   "source": [
    "markers = ['ADAM10', 'Bcl-2', 'CD10', 'CD107a', 'CD13', 'CD138', 'CD14', 'CD1a', 'CD2', 'CD25', 'CD271', 'CD3', 'CD36', 'CD4', 'CD44', 'CD45', 'CD45RA', 'CD45RO', 'CD5', 'CD56', 'CD6', 'CD63', 'CD66abce', 'CD7', 'CD71', 'CD8', 'CD9', 'CD95', 'Collagen IV', 'Cytokeratin-14', 'EBF-P', 'EGFR', 'EGFR-AF488', 'HLA-ABC', 'HLA-DR', 'KIP1', 'Ki67', 'L302', 'MCSP', 'Melan-A', 'Nestin-AF488', 'Notch-1', 'Notch-3', 'PPARgamma', 'PPB', 'RIM3', 'TAP73', 'Vimentin', 'p63', 'phospho-Connexin']    "
   ]
  },
  {
   "cell_type": "code",
   "execution_count": null,
   "id": "9159f9b7-eedb-4d58-b9b7-5f016dd9e025",
   "metadata": {},
   "outputs": [],
   "source": [
    "data = get_data_csv()\n",
    "data = data[data[\"Group\"] == \"Melanoma\"].reset_index()\n",
    "data[\"Coarse tumor stage\"] = data[\"Float tumor stage\"] > 0.5"
   ]
  },
  {
   "cell_type": "code",
   "execution_count": null,
   "id": "4ed8e2c7-eaf6-4e77-86c5-40f46a5f1d59",
   "metadata": {},
   "outputs": [],
   "source": [
    "rois = [os.path.splitext(f)[0][7:] for f in os.listdir(\"/data_nfs/je30bery/melanoma_data/MAGICAL/data/ROIs/ground_truth_ROI/filled\") if \"filled\" in f]\n",
    "data = data[data[\"file_path\"].isin(rois)]"
   ]
  },
  {
   "cell_type": "code",
   "execution_count": null,
   "id": "05e6e020-1ee8-4469-b5b7-9925b54131fd",
   "metadata": {},
   "outputs": [],
   "source": [
    "import torch as t\n",
    "sys.path.append(\"../model\")\n",
    "from model import EfficientnetWithFinetuning, VGGWithFinetuning, ResNetWithFinetuning, EfficientnetWithFinetuningWithVGGClassifier\n",
    "\n",
    "effnet = EfficientnetWithFinetuning(indim=len(markers))\n",
    "effnet.load_state_dict(t.load(\"../model/finetuned_effnet_with_LR_reduction_on_plateau.pt\", map_location=\"cpu\"))\n",
    "#resnet = ResNetWithFinetuning(indim=len(markers))\n",
    "#resnet.load_state_dict(t.load(\"../model/finetuned_resnet_with_LR_reduction_on_pleateau.pt\", map_location=\"cpu\"))\n",
    "#vgg = VGGWithFinetuning(indim=len(markers))\n",
    "#vgg.load_state_dict(t.load(\"../model/finetuned_vgg_with_LR_reduction_on_plateau.pt\", map_location=\"cpu\"))\n",
    "#effnet_regression = t.load(\"../data/models/regression_effnet.pt\", map_location=\"cpu\") \n",
    "effnet2 = EfficientnetWithFinetuningWithVGGClassifier(indim=len(markers))\n",
    "effnet2.load_state_dict(t.load(\"../data/models/model_2024-03-25 11:01:19.161783_f1=0.749165120593692_acc=0.75_12.pt\", map_location=\"cpu\"))\n",
    "\n",
    "for i, model in enumerate([effnet, effnet2]):# , vggresnet, \n",
    "    maps = get_smooth_grad(data, model)\n",
    "    np.save(f\"model{i}_maps.npy\", maps)"
   ]
  },
  {
   "cell_type": "code",
   "execution_count": null,
   "id": "0fcc6724-6430-41a2-b7da-aea235ddb386",
   "metadata": {
    "scrolled": true
   },
   "outputs": [],
   "source": [
    "maps1 = np.load(\"model0_maps.npy\")\n",
    "maps2 = np.load(\"model1_maps.npy\")\n",
    "\n",
    "mean1 = np.mean(maps1, axis=2)\n",
    "mean2 = np.mean(maps2, axis=2)\n",
    "\n",
    "for d in tqdm(range(len(data))):\n",
    "    for i, (gradcam, mean) in enumerate([(maps1, mean1), (maps2, mean2)]):\n",
    "        fov = data.iloc[d][\"file_path\"] \n",
    "        segmented = os.path.join(base, \"datasets/melc/melanoma/\", \"segmented\", f'{fov}_cells.npy')\n",
    "        with open(segmented, \"rb\") as openfile:\n",
    "            seg_file = np.load(openfile)\n",
    "        gc = gradcam[:,:,d] - mean\n",
    "        gc *= (gc > 0)\n",
    "        gc[0,:] = 0\n",
    "        gc[:,-1] = 0\n",
    "        gc[-1,:] = 0\n",
    "        gc[:,0] = 0\n",
    "        gc = gc / (np.max(gc) + 1e-6)\n",
    "        \n",
    "        binary, roi_cells = get_binary(gc, seg_file)\n",
    "        #path = f\"../data/ROIs/model_{i}\"\n",
    "        #os.makedirs(path, exist_ok=True)\n",
    "        #with open(os.path.join(path, fov + \"_idxs.pkl\"), \"wb\") as fp:\n",
    "        #    pickle.dump(roi_cells, fp)\n",
    "        #rgb[i] = cv2.resize((gc * 255).as"
   ]
  },
  {
   "cell_type": "code",
   "execution_count": null,
   "id": "1ab0824a-9d1c-4be9-aa25-3b1bbf12a2eb",
   "metadata": {},
   "outputs": [],
   "source": [
    "data = data.drop([36, 40])"
   ]
  },
  {
   "cell_type": "code",
   "execution_count": null,
   "id": "852cb7b2-7fa2-46dd-91f6-caf6c8e9108d",
   "metadata": {
    "scrolled": true
   },
   "outputs": [],
   "source": [
    "rgbs = list()\n",
    "mean1 = np.mean(maps1, axis=2)\n",
    "mean2 = np.mean(maps2, axis=2)\n",
    "\n",
    "for d in tqdm(range(len(data))):\n",
    "    rgb = np.zeros([3, 512, 512])\n",
    "    for i, (gradcam, mean) in enumerate([(maps1, mean1), (maps2, mean2)]):\n",
    "        if i == 0:\n",
    "            continue\n",
    "        fov = data.iloc[d][\"file_path\"] \n",
    "        segmented = os.path.join(base, \"datasets/melc/melanoma/\", \"segmented\", f'{fov}_cells.npy')\n",
    "        with open(segmented, \"rb\") as openfile:\n",
    "            seg_file = np.load(openfile)\n",
    "        gc = gradcam[:,:,d] - mean\n",
    "        gc *= (gc > 0)\n",
    "        gc = gc / (np.max(gc) + 1e-6)\n",
    "        \n",
    "        binary, roi_cells = get_binary(gc, seg_file)\n",
    "        \n",
    "          \n",
    "        #path = f\"../data/ROIs/riprip_{i}\"\n",
    "        #os.makedirs(path, exist_ok=True)\n",
    "        #with open(os.path.join(path, fov + \"_idxs.pkl\"), \"wb\") as fp:\n",
    "        #    pickle.dump(roi_cells, fp)\n",
    "        rgb[i] = cv2.resize((gc * 255).astype(np.uint8), (512, 512), interpolation=cv2.INTER_AREA) #binary * 255\n",
    "        rgb[i] = binary * 255\n",
    "    \n",
    "    #roi = cv2.imread(os.path.join(base, f\"je30bery/melanoma_data/MAGICAL/data/ROIs/ground_truth_ROI/filled/filled_{fov}.tif\"), cv2.IMREAD_GRAYSCALE)\n",
    "    #roi = cv2.resize(roi, (512, 512))\n",
    "    #if d == 5:\n",
    "    #    roi = (roi > 15).astype(np.uint8)\n",
    "    #else:\n",
    "    #    roi = (roi > 0).astype(np.uint8)\n",
    "    #rgb[-1] = roi * 255\n",
    "    rgbs.append(rgb.astype(np.uint8)) "
   ]
  }
 ],
 "metadata": {
  "kernelspec": {
   "display_name": "Python 3 (ipykernel)",
   "language": "python",
   "name": "python3"
  },
  "language_info": {
   "codemirror_mode": {
    "name": "ipython",
    "version": 3
   },
   "file_extension": ".py",
   "mimetype": "text/x-python",
   "name": "python",
   "nbconvert_exporter": "python",
   "pygments_lexer": "ipython3",
   "version": "3.9.18"
  }
 },
 "nbformat": 4,
 "nbformat_minor": 5
}
