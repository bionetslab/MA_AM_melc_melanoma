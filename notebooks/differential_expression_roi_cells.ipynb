{
 "cells": [
  {
   "cell_type": "code",
   "execution_count": null,
   "metadata": {},
   "outputs": [],
   "source": [
    "%load_ext autoreload\n",
    "%autoreload 2"
   ]
  },
  {
   "cell_type": "code",
   "execution_count": null,
   "metadata": {
    "collapsed": false,
    "jupyter": {
     "outputs_hidden": false
    },
    "pycharm": {
     "name": "#%%\n"
    }
   },
   "outputs": [],
   "source": [
    "import sys\n",
    "import anndata as ad\n",
    "import numpy as np\n",
    "import pandas as pd\n",
    "import pickle\n",
    "import scanpy as sc\n",
    "import matplotlib.pyplot as plt\n",
    "import seaborn as sns\n",
    "from matplotlib.patches import Patch\n",
    "import json\n",
    "\n",
    "sys.path.append(\"..\")\n",
    "from src import *\n",
    "sns.set_theme(\"paper\")"
   ]
  },
  {
   "cell_type": "code",
   "execution_count": null,
   "metadata": {},
   "outputs": [],
   "source": [
    "config_path = \"/data_nfs/je30bery/melanoma_data/config.json\"\n",
    "with open(config_path, \"r\") as f:\n",
    "    config = json.load(f)"
   ]
  },
  {
   "cell_type": "code",
   "execution_count": null,
   "metadata": {},
   "outputs": [],
   "source": [
    "data = get_data_csv(dataset=\"Melanoma\", groups=[\"Melanoma\"], high_quality_only=True)\n",
    "fovs = data[\"file_path\"].values"
   ]
  },
  {
   "cell_type": "code",
   "execution_count": null,
   "metadata": {},
   "outputs": [],
   "source": [
    "with open(config[\"antibody_gene_mapping\"], \"rb\") as f:\n",
    "    antibody_gene_symbols = json.load(f)"
   ]
  },
  {
   "cell_type": "code",
   "execution_count": null,
   "metadata": {
    "pycharm": {
     "name": "#%%\n"
    },
    "scrolled": true
   },
   "outputs": [],
   "source": [
    "with open(config[\"antibody_gene_mapping\"], \"rb\") as f:\n",
    "    antibody_gene_symbols = json.load(f)"
   ]
  },
  {
   "cell_type": "code",
   "execution_count": null,
   "metadata": {},
   "outputs": [],
   "source": [
    "# get df from anndata files\n",
    "model = \"tumor_stage_clf\"\n",
    "\n",
    "x = pickle.load(open(config[\"segmentation_results\"] + \"/anndata_files/adata_cell.pickle\", 'rb'))\n",
    "dfs = list()\n",
    "ne = NeighborEnricher(None, config=config)\n",
    "\n",
    "for k in x:\n",
    "    anndata = x[k]\n",
    "    df = pd.DataFrame()\n",
    "    df[\"fov\"] = anndata.obsm[\"field_of_view\"]\n",
    "    \n",
    "    if not np.unique(df[\"fov\"])[0] in fovs:\n",
    "        continue\n",
    "    raw_df = pd.DataFrame(anndata.X, columns=anndata.var[\"gene_symbol\"])\n",
    "    for c in raw_df.columns:\n",
    "        if c in [\"CD45RA\", \"CD45RO\", \"PPB\", 'CD66abce']:\n",
    "            continue\n",
    "        symbol = antibody_gene_symbols[c]\n",
    "        if isinstance(symbol, list):\n",
    "            for s in symbol:\n",
    "                df[s] = raw_df[c]\n",
    "        else:\n",
    "            df[symbol] = raw_df[c]\n",
    "    \n",
    "    \n",
    "    df[\"condition\"] = anndata.obsm[\"Group\"]\n",
    "\n",
    "    fov = np.unique(df[\"fov\"])[0]\n",
    "    if fov in ['Melanoma_29_202006031146_1', 'Melanoma_29_202006031146_2',\n",
    "       'Melanoma_29_202006031146_3', 'Melanoma_29_202006031146_4',\n",
    "             'Nevi_01_201712121140_1', 'Nevi_01_201712121140_2',\n",
    "             'Melanoma_35_202009031055_1', 'Melanoma_35_202009031055_2',\n",
    "       'Melanoma_35_202009031055_3', 'Melanoma_35_202009031055_4']: \n",
    "        continue\n",
    "\n",
    "    cell_types = ne.get_cell_types(fov)\n",
    "    roi_cells = ne.get_roi_cells(fov, model=model)\n",
    "    roi_info = np.zeros(len(cell_types))\n",
    "    assert roi_cells[0] == 0\n",
    "    roi_info[roi_cells[1:] - 1] = 1\n",
    "    roi_info = roi_info.astype(bool)\n",
    "    assert len(cell_types) == len(roi_info) \n",
    "    assert len(cell_types) == len(df)\n",
    "    df[\"cell_types\"] = cell_types\n",
    "    df[\"in_roi\"] = roi_info\n",
    "    dfs.append(df) \n",
    "\n",
    "df = pd.concat(dfs, ignore_index=True)\n",
    "df = df.dropna(axis=\"columns\")"
   ]
  },
  {
   "cell_type": "code",
   "execution_count": null,
   "metadata": {},
   "outputs": [],
   "source": [
    "cell_types = sorted(np.unique(df[\"cell_types\"].values))\n",
    "pal = sns.color_palette(\"hls\", len(np.unique(cell_types)))\n",
    "cell_type_colors = {ct: pal[i] for i, ct in enumerate(cell_types)}"
   ]
  },
  {
   "cell_type": "code",
   "execution_count": null,
   "metadata": {},
   "outputs": [],
   "source": [
    "df.drop(['HLA-B', 'HLA-C', 'HLA-DRB1', 'HLA-DRB5', 'NFX1', 'CD3E', 'CD3G', 'CD8B', \"COL4A1\"], axis=1, inplace=True)\n",
    "df.rename({\"HLA-A\": \"HLA-ABC\", \"HLA-DRA\": \"HLA-DR\", \"CD8A\": \"CD8\", \"COL4A2\": \"COL4\"}, axis=1, inplace=True)\n",
    "df.drop([\"fov\", \"condition\"], axis=1, inplace=True)"
   ]
  },
  {
   "cell_type": "code",
   "execution_count": null,
   "metadata": {},
   "outputs": [],
   "source": [
    "mean_ratio = dict()\n",
    "med_ratio = dict()\n",
    "med_diff = dict()\n",
    "mean_diff = dict()\n",
    "\n",
    "r = np.sum(df[\"in_roi\"])\n",
    "n = len(df)\n",
    "\n",
    "for marker in df.columns[:-2]:\n",
    "    expr = np.array(df[marker].values)\n",
    "    mean_ratio[marker] = list()    \n",
    "    med_ratio[marker] = list()    \n",
    "    mean_diff[marker] = list()    \n",
    "    med_diff[marker] = list()\n",
    "    for _ in tqdm(range(1000), leave=False):\n",
    "        rand = np.random.choice([0, 1], size=n, p=[1-r/n, r/n])\n",
    "        in_roi = expr[np.where(rand == 1)]\n",
    "        rest = expr[np.where(rand == 0)]\n",
    "        mean_ratio[marker].append(np.mean(in_roi) / (np.mean(rest) + 1e-10))\n",
    "        med_ratio[marker].append(np.median(in_roi) / (np.median(rest) + 1e-10))        \n",
    "        mean_diff[marker].append(np.mean(in_roi) - (np.mean(rest) + 1e-10))\n",
    "        med_diff[marker].append(np.median(in_roi) - (np.median(rest) + 1e-10))"
   ]
  },
  {
   "cell_type": "code",
   "execution_count": null,
   "metadata": {
    "scrolled": true
   },
   "outputs": [],
   "source": [
    "z_scores = pd.DataFrame(index=df.columns[:-2], columns=[\"med_diff\", \"mean_diff\", \"med_ratio\", \"mean_ratio\"])\n",
    "for m in df.columns[:-2]:\n",
    "    actual_val = np.median(df[df[\"in_roi\"] == True][m]) - np.median(df[df[\"in_roi\"] == False][m])\n",
    "    z_scores.loc[m, \"med_diff\"] = (actual_val - np.mean(med_diff[m])) / (np.std(med_diff[m]) + 1e-5)\n",
    "    \n",
    "    actual_val = np.mean(df[df[\"in_roi\"] == True][m]) - np.mean(df[df[\"in_roi\"] == False][m]) \n",
    "    z_scores.loc[m, \"mean_diff\"] = (actual_val - np.mean(mean_diff[m])) / (np.std(mean_diff[m]) + 1e-5)\n",
    "    \n",
    "    actual_val = np.median(df[df[\"in_roi\"] == True][m]) / (np.median(df[df[\"in_roi\"] == False][m]) + 1e-10) \n",
    "    z_scores.loc[m, \"med_ratio\"] = (actual_val - np.mean(med_ratio[m])) / (np.std(med_ratio[m]) + 1e-5)\n",
    "\n",
    "    actual_val = np.mean(df[df[\"in_roi\"] == True][m]) / (np.mean(df[df[\"in_roi\"] == False][m]) + 1e-10)\n",
    "\n",
    "    z_scores.loc[m, \"mean_ratio\"] = (actual_val - np.mean(mean_ratio[m])) / (np.std(mean_ratio[m]) + 1e-5)"
   ]
  },
  {
   "cell_type": "code",
   "execution_count": null,
   "metadata": {
    "scrolled": true
   },
   "outputs": [],
   "source": [
    "print(np.abs(z_scores).sort_values(\"med_diff\", ascending=False).iloc[:5])\n",
    "print(np.abs(z_scores).sort_values(\"mean_diff\", ascending=False).iloc[:5])\n",
    "print(np.abs(z_scores).sort_values(\"mean_ratio\", ascending=False).iloc[:5])"
   ]
  },
  {
   "cell_type": "code",
   "execution_count": null,
   "metadata": {
    "scrolled": true
   },
   "outputs": [],
   "source": [
    "plt.clf()\n",
    "med = True\n",
    "zs = list()\n",
    "ps = list()\n",
    "f, axs = plt.subplots(4, 9, figsize=(20, 5))\n",
    "\n",
    "for i, m in enumerate(med_ratio.keys()):\n",
    "    col = i % 9\n",
    "    row = i // 9\n",
    "    \n",
    "    sns.histplot(med_ratio[m], bins=100, stat=\"probability\", ax=axs[row, col], kde=True)\n",
    "    actual_ratio = np.median(df[df[\"in_roi\"] == True][m]) / (np.median(df[df[\"in_roi\"] == False][m]) + 1e-10)\n",
    "    \n",
    "    z = (actual_ratio - np.mean(med_ratio[m])) / (np.std(med_ratio[m]) + 1e-5)\n",
    "    axs[row, col].axvline(np.mean(med_ratio[m]), ymin=0, ymax=1, color=\"m\")\n",
    "    axs[row, col].axvline(np.mean(med_ratio[m]) + np.std(med_ratio[m]), ymin=0, ymax=1, color=\"m\", ls=\"--\")\n",
    "    axs[row, col].axvline(np.mean(med_ratio[m]) - np.std(med_ratio[m]), ymin=0, ymax=1, color=\"m\", ls=\"--\")\n",
    "\n",
    "\n",
    "    zs.append(z)\n",
    "    p = norm.sf(abs(z)) * 2\n",
    "    axs[row, col].axvline(actual_ratio, ymin=0, ymax=1, color=\"r\")\n",
    "    axs[row, col].set_title(f\"{m}: z={z:.2f}, p={p:.3f}\")\n",
    "plt.tight_layout()\n",
    "plt.show()"
   ]
  },
  {
   "cell_type": "code",
   "execution_count": null,
   "metadata": {
    "scrolled": true
   },
   "outputs": [],
   "source": [
    "z_dict = {k: zs[i] for i, k in enumerate(list(med_ratio.keys()))}\n",
    "ordered_keys = sorted(z_dict.keys(), key=lambda x: abs(z_dict[x]), reverse=True)"
   ]
  },
  {
   "cell_type": "code",
   "execution_count": null,
   "metadata": {
    "scrolled": true
   },
   "outputs": [],
   "source": [
    "ordered_keys"
   ]
  },
  {
   "cell_type": "code",
   "execution_count": null,
   "metadata": {},
   "outputs": [],
   "source": [
    "zs = list()\n",
    "z_dictf = dict()\n",
    "for i, m in enumerate(med_ratio.keys()):\n",
    "    actual_ratio = np.mean(df[df[\"in_roi\"] == True][m]) / (np.mean(df[df[\"in_roi\"] == False][m]) + 1e-10)\n",
    "    z = (actual_ratio - np.mean(mean_ratio[m])) / (np.std(mean_ratio[m]) + 1e-5)\n",
    "    zs.append(z)\n",
    "z_dict = {k: zs[i] for i, k in enumerate(list(mean_ratio.keys()))}"
   ]
  },
  {
   "cell_type": "code",
   "execution_count": null,
   "metadata": {},
   "outputs": [],
   "source": [
    "melted = df.drop(\"cell_types\", axis=1).melt(id_vars=\"in_roi\", var_name=\"Gene\")\n",
    "#melted = melted[melted[\"Gene\"].isin([\"KRT14\", \"TP73\", \"EGFR\", \"GJA1\", \"CD1A\"])]\n",
    "melted[\"z\"] = melted[\"Gene\"].apply(lambda x: np.abs(z_dict[x]))\n",
    "melted = melted.sort_values(\"z\", ascending=False)\n",
    "melted.rename({\"value\": \"Expression\", \"in_roi\": \"In ROI\"}, inplace=True, axis=1)\n",
    "melted[\"In ROI\"].replace({True: \"In ROI\", False: \"Rest\"}, inplace=True)"
   ]
  },
  {
   "cell_type": "code",
   "execution_count": null,
   "metadata": {},
   "outputs": [],
   "source": [
    "sns.set_theme(\"paper\")\n",
    "f = plt.figure(figsize=(10, 4))\n",
    "palette = [\"#B51B1B\", \"#117211\"]\n",
    "\n",
    "melted = df.drop(\"cell_types\", axis=1).melt(id_vars=\"in_roi\", var_name=\"Gene\")\n",
    "#melted = melted[melted[\"Gene\"].isin([\"KRT14\",\"EGFR\", \"GJA1\",\"TP73\"])]\n",
    "\n",
    "\n",
    "melted[\"z\"] = melted[\"Gene\"].apply(lambda x: np.abs(z_dict[x]))\n",
    "melted = melted.sort_values(\"Gene\", ascending=True)\n",
    "melted.rename({\"value\": \"Expression\", \"in_roi\": \"In ROI\"}, inplace=True, axis=1)\n",
    "melted[\"In ROI\"].replace({True: \"In ROI\", False: \"Rest\"}, inplace=True)\n",
    "\n",
    "ax = sns.boxplot(data=melted, x=\"Gene\", y=\"Expression\", showfliers=False, hue=\"In ROI\", hue_order=[\"In ROI\", \"Rest\"], palette=palette)\n",
    "#axs[i].set_title(cell_type)\n",
    "plt.tight_layout()\n",
    "for i, xtick in enumerate(ax.get_xticklabels()):\n",
    "    z = z_dict[ax.get_xticklabels()[i].get_text()]\n",
    "    #color = palette[0] if z > 0 else palette[1]\n",
    "    #xtick.set_color(color)\n",
    "    \n",
    "\n",
    "plt.xticks(rotation=90)\n",
    "sns.move_legend(ax, loc=(0.4, 1), ncol=2, frameon=False, title=None)\n",
    "markers = [m.get_text() for m in ax.get_xticklabels()]\n",
    "#zs = z_scores.loc[markers, \"mean_diff\"]\n",
    "#print(zs)\n",
    "#xticklabels = [f\"{m.get_text()}\\n$z_{{Δ_{{mean}}}}={zs[i]:.2f}$\" for i, m in enumerate(ax.get_xticklabels())] #\n",
    "#ax.set_xticklabels(xticklabels)\n",
    "#plt.title(\"Marker distribution in cell types in ROIs vs. rest\")\n",
    "plt.tight_layout()\n",
    "plt.savefig(\"../result_plots/boxplots_cell_types_ROI_all.pdf\")"
   ]
  },
  {
   "cell_type": "code",
   "execution_count": null,
   "metadata": {},
   "outputs": [],
   "source": [
    "sns.set_theme(\"paper\")\n",
    "f = plt.figure(figsize=(6, 4))\n",
    "palette = [\"#B51B1B\", \"#117211\"]\n",
    "\n",
    "melted = df.drop(\"cell_types\", axis=1).melt(id_vars=\"in_roi\", var_name=\"Gene\")\n",
    "melted = melted[melted[\"Gene\"].isin([\"KRT14\",\"EGFR\", \"GJA1\",\"TP73\"])]\n",
    "\n",
    "\n",
    "melted[\"z\"] = melted[\"Gene\"].apply(lambda x: np.abs(z_dict[x]))\n",
    "melted = melted.sort_values(\"z\", ascending=False)\n",
    "melted.rename({\"value\": \"Expression\", \"in_roi\": \"In ROI\"}, inplace=True, axis=1)\n",
    "melted[\"In ROI\"].replace({True: \"In ROI\", False: \"Rest\"}, inplace=True)\n",
    "\n",
    "ax = sns.boxplot(data=melted, x=\"Gene\", y=\"Expression\", showfliers=False, hue=\"In ROI\", hue_order=[\"In ROI\", \"Rest\"], palette=palette)\n",
    "#axs[i].set_title(cell_type)\n",
    "plt.tight_layout()\n",
    "for i, xtick in enumerate(ax.get_xticklabels()):\n",
    "    z = z_dict[ax.get_xticklabels()[i].get_text()]\n",
    "    #color = palette[0] if z > 0 else palette[1]\n",
    "    #xtick.set_color(color)\n",
    "    \n",
    "\n",
    "plt.xticks(rotation=0)\n",
    "sns.move_legend(ax, loc=(0.275, 1), ncol=2, frameon=False, title=None)\n",
    "markers = [m.get_text() for m in ax.get_xticklabels()]\n",
    "zs = z_scores.loc[markers, \"mean_diff\"]\n",
    "print(zs)\n",
    "xticklabels = [f\"{m.get_text()}\\n$z_{{Δ_{{mean}}}}={zs[i]:.2f}$\" for i, m in enumerate(ax.get_xticklabels())] #\n",
    "ax.set_xticklabels(xticklabels)\n",
    "#plt.title(\"Marker distribution in cell types in ROIs vs. rest\")\n",
    "plt.tight_layout()\n",
    "plt.savefig(\"../result_plots/boxplots_cell_types_ROI.pdf\")"
   ]
  }
 ],
 "metadata": {
  "kernelspec": {
   "display_name": "Python 3 (ipykernel)",
   "language": "python",
   "name": "python3"
  },
  "language_info": {
   "codemirror_mode": {
    "name": "ipython",
    "version": 3
   },
   "file_extension": ".py",
   "mimetype": "text/x-python",
   "name": "python",
   "nbconvert_exporter": "python",
   "pygments_lexer": "ipython3",
   "version": "3.9.18"
  }
 },
 "nbformat": 4,
 "nbformat_minor": 4
}
