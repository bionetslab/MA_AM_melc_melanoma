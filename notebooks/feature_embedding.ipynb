{
 "cells": [
  {
   "cell_type": "code",
   "execution_count": null,
   "id": "a25d226e-3594-4eaf-a976-793506338f35",
   "metadata": {},
   "outputs": [],
   "source": [
    "import os\n",
    "\n",
    "base = \"/data/bionets\" if \"ramses\" in os.uname()[1] else \"/data_nfs/\"\n",
    "import torch as t\n",
    "import cv2 \n",
    "import sys\n",
    "import seaborn as sns\n",
    "import numpy as np\n",
    "import matplotlib.pyplot as plt\n",
    "import pickle\n",
    "import pandas as pd\n",
    "from matplotlib.patches import Patch\n",
    "\n",
    "os.environ[\"CUDA_VISIBLE_DEVICES\"]=\"1\"\n",
    "sys.path.append(\"..\")\n",
    "from src import *\n",
    "plt.style.use(\"default\")\n",
    "\n",
    "\n",
    "from sklearn.ensemble import RandomForestClassifier, RandomForestRegressor\n",
    "from sklearn.metrics import accuracy_score, f1_score, mean_squared_error\n",
    "from sklearn.decomposition import PCA\n",
    "from sklearn.linear_model import LinearRegression"
   ]
  },
  {
   "cell_type": "code",
   "execution_count": null,
   "id": "1d485249-bcef-4938-986e-e3feb97eef85",
   "metadata": {},
   "outputs": [],
   "source": [
    "data = get_data_csv(high_quality_only=True)\n",
    "data = data[data[\"Group\"] == \"Melanoma\"]\n",
    "data[\"Coarse tumor stage\"] = data[\"Float tumor stage\"] > 0.5\n",
    "val = ['B030', 'B407', 'B515', 'B279', 'B295', 'B487', 'B503']\n",
    "data[\"split\"] = \"train\"\n",
    "data.loc[data[\"Histo-ID\"].isin(val), \"split\"] = \"val\"\n",
    "data_unique = data.reset_index().drop(\"index\", axis=1)\n",
    "data = balance(data, split_by=\"split\", variable=\"Coarse tumor stage\")"
   ]
  },
  {
   "cell_type": "code",
   "execution_count": null,
   "id": "24b9d9b7-64bb-4b05-9d2b-e7379966f8c5",
   "metadata": {},
   "outputs": [],
   "source": [
    "data.index.values"
   ]
  },
  {
   "cell_type": "code",
   "execution_count": null,
   "id": "feec2094-b30f-4a98-a016-6174dd9c4fdc",
   "metadata": {},
   "outputs": [],
   "source": [
    "def get_features(effnet, x):\n",
    "    effnet = EfficientnetWithFinetuning(indim=len(markers))\n",
    "    effnet.load_state_dict(t.load(\"../model/finetuned_effnet_with_LR_reduction_on_plateau.pt\", map_location=\"cpu\"))\n",
    "    effnet = effnet.cuda()\n",
    "\n",
    "    effnet = effnet.eval()\n",
    "    x = effnet.features(x.cuda())\n",
    "    x = effnet.avgpool(x)\n",
    "    x = effnet.flatten(x)\n",
    "    return x.detach().cpu().numpy()"
   ]
  },
  {
   "cell_type": "code",
   "execution_count": null,
   "id": "67d977e3-ac1e-4341-b1a6-688829df7b75",
   "metadata": {},
   "outputs": [],
   "source": [
    "effnet = EfficientnetWithFinetuning(indim=len(markers))\n",
    "effnet.load_state_dict(t.load(\"../model/finetuned_effnet_with_LR_reduction_on_plateau.pt\", map_location=\"cpu\"))\n",
    "effnet = effnet.cuda()\n",
    "effnet = effnet.eval()\n",
    "dl = t.utils.data.DataLoader(MelanomaData(markers, classify=False, data=data, mode=\"val\"), batch_size=1, shuffle=False)\n",
    "it = iter(dl)\n",
    "features = list()\n",
    "labels = list()\n",
    "while True:\n",
    "    try:\n",
    "        print(\"progressing\")\n",
    "        x, y = next(it)\n",
    "        labels.append(y.detach().cpu().numpy()[0])\n",
    "        features.append(get_features(effnet, x))\n",
    "    except StopIteration:\n",
    "        break\n",
    "conc = np.concatenate(features)"
   ]
  },
  {
   "cell_type": "code",
   "execution_count": null,
   "id": "5c915edb-d6b2-4e43-b277-cfe573aa397e",
   "metadata": {},
   "outputs": [],
   "source": [
    "conc = conc[:-6]"
   ]
  },
  {
   "cell_type": "code",
   "execution_count": null,
   "id": "b823bdc1-41c7-499e-94a0-6af8db7c968d",
   "metadata": {},
   "outputs": [],
   "source": [
    "data = data_unique"
   ]
  },
  {
   "cell_type": "code",
   "execution_count": null,
   "id": "b29c6a16-7833-4dee-994e-29f93c043962",
   "metadata": {},
   "outputs": [],
   "source": [
    "X = conc[np.where(data[\"split\"] == \"train\")]\n",
    "X_val = conc[np.where(data[\"split\"] == \"val\")]\n",
    "\n",
    "labels = data[\"Coarse tumor stage\"].values\n",
    "y = labels[np.where(data[\"split\"] == \"train\")]\n",
    "y_val = labels[np.where(data[\"split\"] == \"val\")]"
   ]
  },
  {
   "cell_type": "code",
   "execution_count": null,
   "id": "c602d7b8-0e57-4fdb-9187-b312e2c1289a",
   "metadata": {},
   "outputs": [],
   "source": [
    "data[\"Histo-ID\"].values"
   ]
  },
  {
   "cell_type": "code",
   "execution_count": null,
   "id": "bef67b9f-a521-4c09-bd48-817c3b12e692",
   "metadata": {},
   "outputs": [],
   "source": [
    "clf = RandomForestClassifier(max_depth=2, random_state=0)\n",
    "clf.fit(X, y)\n",
    "y_pred = clf.predict(X_val)\n",
    "print(accuracy_score(y_val, y_pred), f1_score(y_val, y_pred)) \n",
    "print(y_val)\n",
    "print(y_pred)"
   ]
  },
  {
   "cell_type": "code",
   "execution_count": null,
   "id": "e43af83b-ec27-4503-ae34-4b7d935f8251",
   "metadata": {},
   "outputs": [],
   "source": [
    "linreg = LinearRegression()\n",
    "linreg.fit(X, y)\n",
    "y_pred = linreg.predict(X_val) > 0.5\n",
    "print(accuracy_score(y_val, y_pred), f1_score(y_val, y_pred)) \n",
    "print(y_val)\n",
    "print(y_pred)"
   ]
  },
  {
   "cell_type": "code",
   "execution_count": null,
   "id": "68cf980f-1411-4f7f-b07d-5c0026d7bf6e",
   "metadata": {},
   "outputs": [],
   "source": [
    "pca = PCA(2)\n",
    "transform = pca.fit_transform(conc)\n",
    "df = pd.DataFrame()\n",
    "df[\"PC1\"] = transform[:, 0]\n",
    "df[\"PC2\"] = transform[:, 1]\n",
    "df[\"Coarse tumor stage\"] = labels\n",
    "df[\"Coarse tumor stage\"].replace({True: \"T3, T4\", False: \"T1, T2\"}, inplace=True)\n",
    "df[\"Group\"] = data[\"Group\"].values\n",
    "df[\"Coarse tumor stage\"].iloc[np.where(df[\"Group\"] == \"Nevus\")] = \"Nevus\""
   ]
  },
  {
   "cell_type": "code",
   "execution_count": null,
   "id": "0b745c1e-6141-46a0-a875-fc7c4ee1fb57",
   "metadata": {},
   "outputs": [],
   "source": [
    "sns.set_theme(\"paper\")\n",
    "palette = {\"T1, T2\": \"#f57d05\", \"T3, T4\": \"#8634b3\"}\n",
    "f, ax = plt.subplots(1,1, figsize=(6,6))\n",
    "f.patch.set_facecolor('white')\n",
    "sns.set_theme(\"paper\")\n",
    "sns.scatterplot(df, x=\"PC1\", y=\"PC2\", palette=palette, hue=\"Coarse tumor stage\", hue_order=[\"T1, T2\", \"T3, T4\"])\n",
    "legend_handles = [Patch(color=color, label=key) for key, color in palette.items()]\n",
    "ax.legend(handles=legend_handles, loc=(0.35,1), ncol=3, frameon=False)\n",
    "plt.tight_layout()\n",
    "plt.savefig(\"../result_plots/PCA_on_EffNet_features.pdf\")"
   ]
  },
  {
   "cell_type": "code",
   "execution_count": null,
   "id": "29f77d24-5e5f-495f-825b-5a0bbee326b2",
   "metadata": {},
   "outputs": [],
   "source": [
    "pca = PCA(2)\n",
    "transform = pca.fit_transform(conc[np.where(data[\"Group\"] == \"Melanoma\")])"
   ]
  },
  {
   "cell_type": "code",
   "execution_count": null,
   "id": "1d7a8066-58eb-4e6d-a200-fd3b563e6983",
   "metadata": {},
   "outputs": [],
   "source": [
    "df = pd.DataFrame()\n",
    "df[\"PC1\"] = transform[:, 0]\n",
    "df[\"PC2\"] = transform[:, 1]\n",
    "df[\"Coarse tumor stage\"] = labels\n",
    "df[\"Coarse tumor stage\"].replace({True: \"T3, T4\", False: \"T1, T2\"}, inplace=True)\n",
    "df[\"Group\"] = data[\"Group\"].values"
   ]
  },
  {
   "cell_type": "code",
   "execution_count": null,
   "id": "0a2679c3-c2ff-4c8c-b05a-63c41d455006",
   "metadata": {},
   "outputs": [],
   "source": [
    "palette = {\"T1, T2\": \"#f57d05\", \"T3, T4\": \"#8634b3\"}\n",
    "f, ax = plt.subplots(1,1, figsize=(6,6))\n",
    "sns.set_theme(\"paper\")\n",
    "sns.scatterplot(df, x=\"PC1\", y=\"PC2\", hue=\"Coarse tumor stage\", palette=palette, ax=ax)\n",
    "legend_handles = [Patch(color=color, label=key) for key, color in palette.items()]\n",
    "ax.legend(handles=legend_handles, loc=(0.275, 1), ncol=2, frameon=False)\n",
    "plt.tight_layout()"
   ]
  },
  {
   "cell_type": "code",
   "execution_count": null,
   "id": "17d51971-3d3a-4186-a5eb-f4325b7d99a6",
   "metadata": {},
   "outputs": [],
   "source": []
  }
 ],
 "metadata": {
  "kernelspec": {
   "display_name": "Python 3 (ipykernel)",
   "language": "python",
   "name": "python3"
  },
  "language_info": {
   "codemirror_mode": {
    "name": "ipython",
    "version": 3
   },
   "file_extension": ".py",
   "mimetype": "text/x-python",
   "name": "python",
   "nbconvert_exporter": "python",
   "pygments_lexer": "ipython3",
   "version": "3.9.18"
  }
 },
 "nbformat": 4,
 "nbformat_minor": 5
}
