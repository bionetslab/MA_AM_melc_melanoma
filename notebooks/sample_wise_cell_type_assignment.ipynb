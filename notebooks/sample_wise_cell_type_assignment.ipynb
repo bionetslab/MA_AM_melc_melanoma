{
 "cells": [
  {
   "cell_type": "code",
   "execution_count": null,
   "metadata": {},
   "outputs": [],
   "source": [
    "%load_ext autoreload\n",
    "%autoreload 2"
   ]
  },
  {
   "cell_type": "code",
   "execution_count": null,
   "metadata": {
    "collapsed": false,
    "jupyter": {
     "outputs_hidden": false
    },
    "pycharm": {
     "name": "#%%\n"
    }
   },
   "outputs": [],
   "source": [
    "import sys\n",
    "sys.path.append(\"..\")\n",
    "import theoretic as th\n",
    "from sklearn.mixture import GaussianMixture\n",
    "import anndata as ad\n",
    "from scipy.sparse import csr_matrix\n",
    "import numpy as np\n",
    "import pandas as pd\n",
    "import pickle\n",
    "import scanpy as sc\n",
    "import matplotlib.pyplot as plt\n",
    "import seaborn as sns\n",
    "import os\n",
    "import cv2\n",
    "from matplotlib.patches import Patch\n",
    "import json\n",
    "sys.path.append(\"../../MAGICAL/data_utils\")\n",
    "from data_utils import *\n",
    "from tqdm import tqdm\n",
    "plt.style.use(\"dark_background\")"
   ]
  },
  {
   "cell_type": "code",
   "execution_count": null,
   "metadata": {},
   "outputs": [],
   "source": [
    "base = \"/data_nfs/\"\n",
    "data = os.path.join(base, \"datasets/melc/melanoma/\")\n",
    "fovs = os.listdir(os.path.join(data, \"processed\"))"
   ]
  },
  {
   "cell_type": "code",
   "execution_count": null,
   "metadata": {},
   "outputs": [],
   "source": [
    "with open(\"../data/antibody_gene_mapping/antibodies.json\", \"rb\") as f:\n",
    "    antibody_gene_symbols = json.load(f)"
   ]
  },
  {
   "cell_type": "code",
   "execution_count": null,
   "metadata": {},
   "outputs": [],
   "source": [
    "antibody_gene_symbols"
   ]
  },
  {
   "cell_type": "code",
   "execution_count": null,
   "metadata": {
    "collapsed": false,
    "jupyter": {
     "outputs_hidden": false
    },
    "pycharm": {
     "name": "#%%\n"
    }
   },
   "outputs": [],
   "source": [
    "x = pickle.load(open(os.path.join(base, 'datasets/melc/melanoma/segmented/anndata_files/adata_cell.pickle'), 'rb'))\n",
    "dfs = list()\n",
    "coords = dict()\n",
    "for k in x:\n",
    "    anndata = x[k]\n",
    "    raw_df = pd.DataFrame(anndata.X, columns=anndata.var[\"gene_symbol\"])\n",
    "    df = pd.DataFrame()\n",
    "    \n",
    "    for c in raw_df.columns:\n",
    "        if c in [\"CD45RA\", \"CD45RO\", \"PPB\", 'CD66abce']:\n",
    "            continue\n",
    "        symbol = antibody_gene_symbols[c]\n",
    "        if isinstance(symbol, list):\n",
    "            for s in symbol:\n",
    "                df[s] = raw_df[c]\n",
    "        else:\n",
    "            df[symbol] = raw_df[c]\n",
    "    \n",
    "    df[\"fov\"] = anndata.obsm[\"field_of_view\"]\n",
    "    df[\"condition\"] = anndata.obsm[\"Group\"]\n",
    "\n",
    "    fov = np.unique(df[\"fov\"])[0]\n",
    "    if fov in ['Melanoma_29_202006031146_1', 'Melanoma_29_202006031146_2',\n",
    "       'Melanoma_29_202006031146_3', 'Melanoma_29_202006031146_4',\n",
    "             'Nevi_01_201712121140_1', 'Nevi_01_201712121140_2',\n",
    "             'Melanoma_35_202009031055_1', 'Melanoma_35_202009031055_2',\n",
    "       'Melanoma_35_202009031055_3', 'Melanoma_35_202009031055_4']:\n",
    "        continue\n",
    "    dfs.append(df) \n",
    "    coords[fov] = (x[k].uns[\"cell_coordinates\"])\n",
    "\n",
    "df = pd.concat(dfs, ignore_index=True)\n",
    "df = df.dropna(axis=\"columns\")\n",
    "\n",
    "adata = ad.AnnData(df.drop([\"fov\", \"condition\"], axis=\"columns\"))\n",
    "adata.vars = list(df.drop([\"fov\", \"condition\"], axis=\"columns\").columns)\n",
    "adata.var_names = list(df.drop([\"fov\", \"condition\"], axis=\"columns\").columns)\n",
    "adata.obs[\"field_of_view\"] = list(df[\"fov\"].astype(str))\n",
    "adata.obs[\"condition\"] = list(df[\"condition\"].astype(str))\n",
    "adata.obs_names = [f\"Cell_{i:d}\" for i in range(adata.n_obs)]    \n",
    "#adata.uns[\"cell_coordinates\"] = coords\n",
    "#sc.pp.neighbors(adata)\n",
    "#sc.tl.umap(adata)\n",
    "#sc.tl.pca(adata)"
   ]
  },
  {
   "cell_type": "code",
   "execution_count": null,
   "metadata": {
    "collapsed": false,
    "jupyter": {
     "outputs_hidden": false
    },
    "pycharm": {
     "name": "#%%\n"
    }
   },
   "outputs": [],
   "source": [
    "try:\n",
    "    reference = pd.read_csv(\"../data/theoretic_reference_data/skin_reference.csv\", index_col=\"Unnamed: 0\")\n",
    "except:\n",
    "    reference = th.get_hpa_reference('skin')\n",
    "    usable_genes = [c for c in reference.columns if c in adata.var_names]\n",
    "    reference = reference[usable_genes]"
   ]
  },
  {
   "cell_type": "code",
   "execution_count": null,
   "metadata": {},
   "outputs": [],
   "source": [
    "reference[\"CD4\"]"
   ]
  },
  {
   "cell_type": "code",
   "execution_count": null,
   "metadata": {},
   "outputs": [],
   "source": [
    "high_quality = np.unique(get_data_csv(high_quality_only=True)[\"file_path\"])"
   ]
  },
  {
   "cell_type": "code",
   "execution_count": null,
   "metadata": {},
   "outputs": [],
   "source": [
    "adata = adata[adata.obs[\"field_of_view\"].isin(high_quality)]"
   ]
  },
  {
   "cell_type": "code",
   "execution_count": null,
   "metadata": {},
   "outputs": [],
   "source": [
    "samples = dict()\n",
    "all_cells = list()\n",
    "plot = False\n",
    "\n",
    "for hq in high_quality:\n",
    "    samples[hq] = adata[adata.obs[\"field_of_view\"] == hq].copy()\n",
    "    if len(samples[hq]) == 0:\n",
    "        print(hq)\n",
    "        del samples[hq]"
   ]
  },
  {
   "cell_type": "code",
   "execution_count": null,
   "metadata": {},
   "outputs": [],
   "source": [
    "cell_types = sorted(list(reference.index))\n",
    "pal = sns.color_palette(\"hls\", len(np.unique(cell_types)))\n",
    "cell_type_colors = {ct: pal[i] for i, ct in enumerate(cell_types)}"
   ]
  },
  {
   "cell_type": "code",
   "execution_count": null,
   "metadata": {
    "scrolled": true
   },
   "outputs": [],
   "source": [
    "forest = list()\n",
    "for hq in samples.keys():\n",
    "    print(hq)\n",
    "    if \"Nevi_03\" in hq:\n",
    "        continue\n",
    "    tree = th.identify_cell_types(samples[hq], reference.copy(), min_fold_change=2, z_score_cutoff=1.96/4)\n",
    "    forest.append(tree)\n",
    "    #for st in tree.split_tuples:\n",
    "    #    print(st.cell_type, st.mapped_genes)\n",
    "    cell_types = list(samples[hq].obs[\"cell_type\"])\n",
    "    all_cells += cell_types\n",
    "    p = os.path.join(base, \"je30bery/melanoma_data/MAGICAL/data/cell_types\", )\n",
    "    with open(os.path.join(p, hq + \"_cell_types.pkl\"), \"wb\") as fp:   \n",
    "        pickle.dump(cell_types, fp)\n",
    "    #samples[hq].write_h5ad(f\"./sample_wise_results/cell_types_{hq}.h5ad\")\n",
    "    if plot:\n",
    "        # for i in range(len(ROIS)):\n",
    "        fov = hq\n",
    "        if fov in ['Melanoma_29_202006031146_1', 'Melanoma_29_202006031146_2',\n",
    "       'Melanoma_29_202006031146_3', 'Melanoma_29_202006031146_4',\n",
    "             'Nevi_01_201712121140_1', 'Nevi_01_201712121140_2',\n",
    "             'Melanoma_35_202009031055_1', 'Melanoma_35_202009031055_2',\n",
    "       'Melanoma_35_202009031055_3', 'Melanoma_35_202009031055_4']:\n",
    "            continue\n",
    "        segmented = os.path.join(data, \"segmented\", f'{fov}_cells.npy')\n",
    "        with open(segmented, \"rb\") as openfile:\n",
    "            seg_file = np.load(openfile)\n",
    "            \n",
    "        cell_types = samples[hq][samples[hq].obs[\"field_of_view\"] == fov].obs[\"cell_type\"]\n",
    "        assert len(cell_types) > 0, \"no cells found for this fov\"\n",
    "        assert len(np.unique(seg_file.flatten())) == len(cell_types) + 1\n",
    "        \n",
    "        cell_types_on_seg = np.zeros((seg_file.shape[0], seg_file.shape[1], 3))\n",
    "        for i, cell in enumerate(np.unique(seg_file.flatten())):\n",
    "            if cell == 0:\n",
    "                continue\n",
    "            cell_types_on_seg[np.where(seg_file == cell)] = cell_type_colors[cell_types[i - 1]]\n",
    "        \n",
    "        prop_iodide = cv2.imread([os.path.join(data, \"processed\", fov, f) for f in os.listdir(os.path.join(data, \"processed\", fov)) if \"propidium\" in f.lower()][0])\n",
    "        \n",
    "        plt.figure(figsize=(10,10))\n",
    "        plt.imshow(cv2.addWeighted(prop_iodide, 0.4, (cell_types_on_seg * 255).astype(np.uint8), 0.6, 0))\n",
    "        legend_handles = [Patch(color=color, label=key) for key, color in cell_type_colors.items()]\n",
    "        \n",
    "        # Create a dummy plot to show the legend\n",
    "        plt.scatter([], [], label='Legend', alpha=0)  # Create an invisible point for the legend\n",
    "        plt.legend(handles=legend_handles, loc=(1.01, 0.7))\n",
    "        plt.title(fov)\n",
    "    \n",
    "        plt.tight_layout()\n",
    "        plt.axis(\"off\")\n",
    "        plt.savefig(f\"../result_plots/cell_types_on_prop/cell_type_analysis_{fov}_cells.png\")\n",
    "        #plt.show()"
   ]
  },
  {
   "cell_type": "code",
   "execution_count": null,
   "metadata": {
    "scrolled": true
   },
   "outputs": [],
   "source": [
    "df = pd.DataFrame(columns=range(len(forest)))\n",
    "for i, tree in enumerate(forest):\n",
    "    entry = list()\n",
    "    for j, st in enumerate(tree.split_tuples): \n",
    "        entry.append(f\"{st.cell_type}: {st.mapped_genes[0]}\")     \n",
    "    df[i] = entry"
   ]
  },
  {
   "cell_type": "code",
   "execution_count": null,
   "metadata": {},
   "outputs": [],
   "source": [
    "df = df.T.sort_values(by=list(range(10)))\n",
    "unique_trees = df.drop_duplicates()"
   ]
  },
  {
   "cell_type": "code",
   "execution_count": null,
   "metadata": {},
   "outputs": [],
   "source": [
    "row_counts = df.apply(tuple, axis=1).value_counts()"
   ]
  },
  {
   "cell_type": "code",
   "execution_count": null,
   "metadata": {},
   "outputs": [],
   "source": [
    "def assignment_heatmap(reference, assignment):\n",
    "    cell_types = list()\n",
    "    genes = list()\n",
    "    for st in assignment:\n",
    "        cell_types.append(st.split(\":\")[0])\n",
    "        genes.append(st.split(\":\")[1][1:])\n",
    "        \n",
    "    ref_copy = reference.copy()\n",
    "    ref_copy /= ref_copy.max(axis=0)\n",
    "    hm = pd.DataFrame(columns=genes)\n",
    "    \n",
    "    for ct in cell_types:\n",
    "        new_row = ref_copy.loc[ct][genes]\n",
    "        hm.loc[ct] = new_row\n",
    "        ref_copy.drop(ct, inplace=True)\n",
    "    return hm"
   ]
  },
  {
   "cell_type": "code",
   "execution_count": null,
   "metadata": {},
   "outputs": [],
   "source": [
    "plt.style.use(\"default\")\n",
    "f, axs = plt.subplots(3, 3, figsize=(14, 10))\n",
    "\n",
    "for i, row in enumerate(row_counts.index.values):\n",
    "    hm = assignment_heatmap(reference, row)\n",
    "\n",
    "    \n",
    "    if int(row_counts[i]) == 1:\n",
    "        axs[i // 3, i % 3].set_title(f\"{int(row_counts[i])} sample\")\n",
    "    else:\n",
    "        axs[i // 3, i % 3].set_title(f\"{int(row_counts[i])} samples\")\n",
    "    sns.heatmap(hm, ax=axs[i // 3, i % 3], square=True, cbar=False)\n",
    "    \n",
    "plt.tight_layout()\n",
    "plt.savefig(\"../result_plots/heatmap.pdf\")"
   ]
  },
  {
   "cell_type": "code",
   "execution_count": null,
   "metadata": {},
   "outputs": [],
   "source": [
    "unique_trees = forest[[0, 5, 7, 27, 45, 46, 51, 52, 57]]"
   ]
  },
  {
   "cell_type": "code",
   "execution_count": null,
   "metadata": {},
   "outputs": [],
   "source": [
    "concatenated_ann_data = ad.concat(\n",
    "    samples.values(),  # Pass the AnnData objects as values in the dictionary\n",
    "    keys=list(samples.keys()),  # Use sample names as keys\n",
    "    join='outer',  # Specify the join strategy (use 'outer' for concatenation)\n",
    "    axis=0  # Concatenate along the observation axis\n",
    ")"
   ]
  },
  {
   "cell_type": "code",
   "execution_count": null,
   "metadata": {},
   "outputs": [],
   "source": [
    "#genes = ['MLANA', 'CD3G', 'CD14', 'NOTCH3', 'PPARG', 'KRT14', 'TP63', 'EGFR', 'CSPG4', 'CD36']\n",
    "concatenated_ann_data = concatenated_ann_data[:, np.where(concatenated_ann_data.var_names.isin(genes))[0]]"
   ]
  },
  {
   "cell_type": "code",
   "execution_count": null,
   "metadata": {},
   "outputs": [],
   "source": [
    "sc.pp.neighbors(concatenated_ann_data)\n",
    "sc.tl.umap(concatenated_ann_data)\n",
    "sc.pl.umap(concatenated_ann_data, color=\"cell_type\")"
   ]
  },
  {
   "cell_type": "code",
   "execution_count": null,
   "metadata": {},
   "outputs": [],
   "source": [
    "sc.tl.pca(concatenated_ann_data)\n",
    "sc.pl.pca(concatenated_ann_data, color=\"cell_type\", components=\"1, 2\")"
   ]
  },
  {
   "cell_type": "code",
   "execution_count": null,
   "metadata": {},
   "outputs": [],
   "source": [
    "var_exp = concatenated_ann_data.uns['pca']['variance_ratio']\n",
    "# Access loadings (coefficients) of each gene on each principal component\n",
    "loadings = concatenated_ann_data.varm['PCs']\n",
    "pc_index = 2\n",
    "loadings_pc1 = loadings[:, pc_index]\n",
    "sorted_genes = concatenated_ann_data.var_names[np.argsort(np.abs(loadings_pc1))[::-1]]\n",
    "print(sorted_genes)"
   ]
  },
  {
   "cell_type": "code",
   "execution_count": null,
   "metadata": {},
   "outputs": [],
   "source": [
    "concatenated_ann_data"
   ]
  },
  {
   "cell_type": "code",
   "execution_count": null,
   "metadata": {},
   "outputs": [],
   "source": [
    "fov = hq\n",
    "segmented = os.path.join(data, \"segmented\", f'{fov}_cells.npy')\n",
    "with open(segmented, \"rb\") as openfile:\n",
    "    seg_file = np.load(openfile)\n",
    "    \n",
    "cell_types = samples[hq][samples[hq].obs[\"field_of_view\"] == fov].obs[\"cell_type\"]\n",
    "assert len(cell_types) > 0, \"no cells found for this fov\"\n",
    "assert len(np.unique(seg_file.flatten())) == len(cell_types) + 1\n",
    "\n",
    "cell_types_on_seg = np.zeros((seg_file.shape[0], seg_file.shape[1], 3))\n",
    "for i, cell in tqdm(enumerate(np.unique(seg_file.flatten()))):\n",
    "    if cell == 0:\n",
    "        continue\n",
    "    cell_types_on_seg[np.where(seg_file == cell)] = cell_type_colors[cell_types[i - 1]]\n",
    "\n",
    "prop_iodide = cv2.imread([os.path.join(data, \"processed\", fov, f) for f in os.listdir(os.path.join(data, \"processed\", fov)) if \"propidium\" in f.lower()][0])"
   ]
  },
  {
   "cell_type": "code",
   "execution_count": null,
   "metadata": {
    "scrolled": true
   },
   "outputs": [],
   "source": [
    "plt.figure(figsize=(5,5))\n",
    "plt.imshow(cv2.addWeighted(prop_iodide, 0.4, (cell_types_on_seg * 255).astype(np.uint8), 0.6, 0))\n",
    "legend_handles = [Patch(color=color, label=key) for key, color in cell_type_colors.items()]\n",
    "\n",
    "# Create a dummy plot to show the legend\n",
    "plt.scatter([], [], label='Legend', alpha=0)  # Create an invisible point for the legend\n",
    "plt.legend(handles=legend_handles, loc=(0, -0.15), ncol=3, frameon=False, prop = {\"size\": 6})\n",
    "#plt.title(fov)\n",
    "\n",
    "plt.tight_layout()\n",
    "plt.axis(\"off\")\n",
    "plt.savefig(f\"../result_plots/cell_types_on_prop/cell_type_analysis_{fov}_cells.pdf\", format='pdf', bbox_inches='tight', pad_inches=0.1, transparent=True)\n",
    "#plt.show()"
   ]
  },
  {
   "cell_type": "code",
   "execution_count": null,
   "metadata": {},
   "outputs": [],
   "source": []
  },
  {
   "cell_type": "code",
   "execution_count": null,
   "metadata": {},
   "outputs": [],
   "source": []
  },
  {
   "cell_type": "code",
   "execution_count": null,
   "metadata": {
    "scrolled": true
   },
   "outputs": [],
   "source": []
  },
  {
   "cell_type": "code",
   "execution_count": null,
   "metadata": {
    "scrolled": true
   },
   "outputs": [],
   "source": [
    "plt.figure(figsize=(6, 4))\n",
    "\n",
    "plt.tight_layout()\n",
    "plt.savefig(\"../result_plots/cell_type_assignment.pdf\", format='pdf', bbox_inches='tight', pad_inches=0.1, transparent=True)"
   ]
  },
  {
   "cell_type": "code",
   "execution_count": null,
   "metadata": {},
   "outputs": [],
   "source": [
    "hm"
   ]
  },
  {
   "cell_type": "code",
   "execution_count": null,
   "metadata": {},
   "outputs": [],
   "source": []
  },
  {
   "cell_type": "code",
   "execution_count": null,
   "metadata": {},
   "outputs": [],
   "source": [
    "df = pd.DataFrame(sorted(all_cells), columns=[\"cell_type\"])"
   ]
  },
  {
   "cell_type": "code",
   "execution_count": null,
   "metadata": {
    "scrolled": true
   },
   "outputs": [],
   "source": [
    "sns.histplot(df, x=\"cell_type\", hue=\"cell_type\", palette=cell_type_colors, shrink=0.7)\n",
    "plt.xticks(rotation=45, ha=\"right\")\n",
    "plt.title(f\"Cell type distribution across {len(samples)} samples, {len(all_cells)} cells\")\n",
    "plt.tight_layout()\n",
    "plt.legend('', frameon=False)\n",
    "plt.savefig(\"../result_plots/cell_types.pdf\")"
   ]
  },
  {
   "cell_type": "code",
   "execution_count": null,
   "metadata": {},
   "outputs": [],
   "source": []
  }
 ],
 "metadata": {
  "kernelspec": {
   "display_name": "Python 3 (ipykernel)",
   "language": "python",
   "name": "python3"
  },
  "language_info": {
   "codemirror_mode": {
    "name": "ipython",
    "version": 3
   },
   "file_extension": ".py",
   "mimetype": "text/x-python",
   "name": "python",
   "nbconvert_exporter": "python",
   "pygments_lexer": "ipython3",
   "version": "3.9.18"
  }
 },
 "nbformat": 4,
 "nbformat_minor": 4
}
