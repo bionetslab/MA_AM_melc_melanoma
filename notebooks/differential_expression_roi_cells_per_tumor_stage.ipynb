{
 "cells": [
  {
   "cell_type": "code",
   "execution_count": null,
   "metadata": {},
   "outputs": [],
   "source": [
    "%load_ext autoreload\n",
    "%autoreload 2"
   ]
  },
  {
   "cell_type": "code",
   "execution_count": null,
   "metadata": {
    "pycharm": {
     "name": "#%%\n"
    }
   },
   "outputs": [],
   "source": [
    "import sys\n",
    "import anndata as ad\n",
    "import numpy as np\n",
    "import pandas as pd\n",
    "import pickle\n",
    "import scanpy as sc\n",
    "import matplotlib.pyplot as plt\n",
    "import seaborn as sns\n",
    "from matplotlib.patches import Patch\n",
    "import json\n",
    "\n",
    "sys.path.append(\"..\")\n",
    "from src import *\n",
    "sns.set_theme(\"paper\")"
   ]
  },
  {
   "cell_type": "code",
   "execution_count": null,
   "metadata": {},
   "outputs": [],
   "source": [
    "config_path = \"/data_nfs/je30bery/melanoma_data/config.json\"\n",
    "with open(config_path, \"r\") as f:\n",
    "    config = json.load(f)"
   ]
  },
  {
   "cell_type": "code",
   "execution_count": null,
   "metadata": {},
   "outputs": [],
   "source": [
    "data = get_data_csv(dataset=\"Melanoma\", groups=[\"Melanoma\"], high_quality_only=True, config_path=config_path)\n",
    "fovs = data[\"file_path\"].values"
   ]
  },
  {
   "cell_type": "code",
   "execution_count": null,
   "metadata": {},
   "outputs": [],
   "source": [
    "with open(config[\"antibody_gene_mapping\"], \"rb\") as f:\n",
    "    antibody_gene_symbols = json.load(f)"
   ]
  },
  {
   "cell_type": "code",
   "execution_count": null,
   "metadata": {},
   "outputs": [],
   "source": [
    "# get df from anndata files\n",
    "model = \"tumor_stage_clf\"\n",
    "\n",
    "x = pickle.load(open(config[\"segmentation_results\"] + \"/anndata_files/adata_cell.pickle\", 'rb'))\n",
    "dfs = list()\n",
    "ne = NeighborEnricher(None, config=config)\n",
    "\n",
    "for k in x:\n",
    "    anndata = x[k]\n",
    "    df = pd.DataFrame()\n",
    "    df[\"fov\"] = anndata.obsm[\"field_of_view\"]\n",
    "    if not np.unique(df[\"fov\"])[0] in fovs:\n",
    "        continue\n",
    "\n",
    "\n",
    "    raw_df = pd.DataFrame(anndata.X, columns=anndata.var[\"gene_symbol\"])\n",
    "    for c in raw_df.columns:\n",
    "        if c in [\"CD45RA\", \"CD45RO\", \"PPB\", 'CD66abce']:\n",
    "            continue\n",
    "        symbol = antibody_gene_symbols[c]\n",
    "        if isinstance(symbol, list):\n",
    "            for s in symbol:\n",
    "                df[s] = raw_df[c]\n",
    "        else:\n",
    "            df[symbol] = raw_df[c]    \n",
    "    df[\"condition\"] = anndata.obsm[\"Group\"]\n",
    "\n",
    "    fov = np.unique(df[\"fov\"])[0]\n",
    "    if fov not in data[\"file_path\"].values:\n",
    "        print(fov)\n",
    "        continue\n",
    "    # samples that need to be excluded because they lack channels\n",
    "    if fov in ['Melanoma_29_202006031146_1', 'Melanoma_29_202006031146_2', 'Melanoma_29_202006031146_3', 'Melanoma_29_202006031146_4', \n",
    "               'Nevi_01_201712121140_1', 'Nevi_01_201712121140_2', 'Melanoma_35_202009031055_1', 'Melanoma_35_202009031055_2', \n",
    "               'Melanoma_35_202009031055_3', 'Melanoma_35_202009031055_4']:\n",
    "        continue\n",
    "\n",
    "    cell_types = ne.get_cell_types(fov)\n",
    "    try:\n",
    "        roi_cells = ne.get_roi_cells(fov, model=model)\n",
    "    except:\n",
    "        continue\n",
    "\n",
    "    roi_info = np.zeros(len(cell_types))\n",
    "    roi_info[roi_cells[1:] - 1] = 1\n",
    "    roi_info = roi_info.astype(bool)\n",
    "    df[\"cell_types\"] = cell_types\n",
    "    df[\"in_roi\"] = roi_info\n",
    "    dfs.append(df) \n",
    "\n",
    "df = pd.concat(dfs, ignore_index=True)\n",
    "df = df.dropna(axis=\"columns\")"
   ]
  },
  {
   "cell_type": "code",
   "execution_count": null,
   "metadata": {},
   "outputs": [],
   "source": [
    "cell_types = sorted(np.unique(df[\"cell_types\"].values))\n",
    "pal = sns.color_palette(\"hls\", len(np.unique(cell_types)))\n",
    "cell_type_colors = {ct: pal[i] for i, ct in enumerate(cell_types)}"
   ]
  },
  {
   "cell_type": "code",
   "execution_count": null,
   "metadata": {
    "scrolled": true
   },
   "outputs": [],
   "source": [
    "df.drop(['HLA-B', 'HLA-C', 'HLA-DRB1', 'HLA-DRB5', 'NFX1', 'CD3E', 'CD3G', 'CD8B', \"COL4A1\"], axis=1, inplace=True)\n",
    "df.rename({\"NCR3LG1\": \"DLG4\", \"HLA-A\": \"HLA-ABC\", \"HLA-DRA\": \"HLA-DR\", \"CD8A\": \"CD8\", \"COL4A2\": \"COL4\"}, axis=1, inplace=True)"
   ]
  },
  {
   "cell_type": "code",
   "execution_count": null,
   "metadata": {},
   "outputs": [],
   "source": [
    "data = data.set_index(\"file_path\")\n",
    "df[\"tumor_stage\"] = df[\"fov\"].apply(lambda x: data.loc[x][\"Tumor stage\"][:2])\n",
    "df[\"histo_id\"] = df[\"fov\"].apply(lambda x: data.loc[x][\"Histo-ID\"])\n",
    "df.drop(\"fov\", axis=1, inplace=True)"
   ]
  },
  {
   "cell_type": "code",
   "execution_count": null,
   "metadata": {},
   "outputs": [],
   "source": [
    "df[\"coarse_tumor_stage\"] = df[\"tumor_stage\"].replace({\"T1\": \"T1, T2\",\n",
    "                                                      \"T2\": \"T1, T2\",\n",
    "                                                      \"T3\": \"T3, T4\",\n",
    "                                                      \"T4\": \"T3, T4\"})"
   ]
  },
  {
   "cell_type": "code",
   "execution_count": null,
   "metadata": {},
   "outputs": [],
   "source": [
    "palette = {\"T1, T2\": \"#f57d05\", \"T3, T4\": \"#8634b3\"}\n",
    "\n",
    "f, ax = plt.subplots(1, figsize=(6, 3))\n",
    "ins = df[df[\"in_roi\"] == True].drop(\"in_roi\", axis=1)\n",
    "ins.rename({\"coarse_tumor_stage\": \"Tumor stage\", \"cell_types\": \"Cell type\"}, axis=1, inplace=True)\n",
    "sns.histplot(ins[ins[\"Tumor stage\"] == \"T1, T2\"].sort_values(\"Cell type\"), x=\"Cell type\", hue=\"Tumor stage\", multiple=\"dodge\", shrink=0.4, stat=\"probability\", ax=ax, palette=[palette[\"T1, T2\"]], legend=False)\n",
    "sns.histplot(ins[ins[\"Tumor stage\"] == \"T3, T4\"].sort_values(\"Cell type\"), x=\"Cell type\", hue=\"Tumor stage\", multiple=\"dodge\", shrink=0.4, stat=\"probability\", ax=ax, palette=[palette[\"T3, T4\"]], legend=False)\n",
    "\n",
    "for container in ax.containers:\n",
    "    dx = -0.2 if container.get_label() == \"_container0\" else 0.2\n",
    "    for bar in container:\n",
    "        bar.set_x(bar.get_x() + dx)\n",
    "\n",
    "\n",
    "tick_labels = [label.get_text().replace(\" cells\", \"\\ncells\") for label in ax.get_xticklabels()]\n",
    "tick_labels = [label.replace(\" keratinocytes\", \"\\nkeratinocytes\") for label in tick_labels]\n",
    "ax.set_xticks(list(range(len(tick_labels))), tick_labels, rotation=90)\n",
    "\n",
    "legend_handles = [Patch(color=color, label=key) for key, color in palette.items()]\n",
    "ax.legend(handles=legend_handles, loc=(0.275, 1), ncol=2, frameon=False)\n",
    "plt.tight_layout()\n",
    "#plt.savefig(\"../result_plots/cell_type_distri.pdf\", bbox_inches='tight') "
   ]
  },
  {
   "cell_type": "code",
   "execution_count": null,
   "metadata": {},
   "outputs": [],
   "source": [
    "plot = True\n",
    "markers = df.columns[:-6] #['NCAM1', 'NCR3LG1', 'CSPG4', 'MLANA', 'PPARG', 'TP63', 'NGFR', 'CD3D'] # ['NCAM1', 'CSPG4', 'MLANA', 'NGFR'] # ['NCAM1', 'EBF1', 'NCR3LG1', 'CSPG4', 'MLANA', 'TP63', 'NGFR']# ['MLANA', 'SDC1', 'HLA-ABC', 'NCR3LG1', 'NOTCH3', 'PPARG']\n",
    "#markers = ['CD4', 'EBF1', 'NCR3LG1', 'CD3D', 'NCAM1', 'CSPG4', 'MLANA', 'NGFR'] means\n",
    "markers = ['LAMP1', 'IL2RA', 'EGFR', 'RIMS3']\n",
    "melted_in = df[df[\"in_roi\"] == True].drop(\"in_roi\", axis=1).melt(id_vars=['condition', 'cell_types', 'tumor_stage', 'coarse_tumor_stage', 'histo_id'], var_name=\"Gene\")\n",
    "melted_rest = df.drop(\"in_roi\", axis=1).melt(id_vars=['condition', 'cell_types', 'tumor_stage', 'coarse_tumor_stage', 'histo_id'], var_name=\"Gene\")\n",
    "melted_in.rename({\"coarse_tumor_stage\": \"Tumor stage\", \"value\": \"Expression\"}, inplace=True, axis=1)\n",
    "melted_rest.rename({\"coarse_tumor_stage\": \"Tumor stage\", \"value\": \"Expression\"}, inplace=True, axis=1)\n",
    "\n",
    "if plot:\n",
    "    plt.clf()\n",
    "    fig, axs = plt.subplots(2, len(markers), figsize=(10, 5), sharex=True, sharey=\"col\")\n",
    "\n",
    "t_ins = list()\n",
    "t_rest = list()\n",
    "for i, m in enumerate(markers):\n",
    "    if plot:\n",
    "        ax = axs[0, i]\n",
    "        ax.legend(\"off\")\n",
    "    subset = melted_in[melted_in[\"Gene\"] == m].copy()    \n",
    "    cutoff = np.quantile(subset[\"Expression\"], 0.95)\n",
    "    subset = subset[subset[\"Expression\"] < cutoff]\n",
    "\n",
    "    t = np.median(subset[subset[\"Tumor stage\"] == \"T1, T2\"][\"Expression\"]) - np.median(subset[subset[\"Tumor stage\"] == \"T3, T4\"][\"Expression\"])\n",
    "    t_ins.append(t)\n",
    "    if plot:\n",
    "        ax.set_title(f\"\\n{m}\\n$Δ_{{med, ROI}}={np.round(t, 3):.3f}$\")\n",
    "        sns.violinplot(subset, x=\"Tumor stage\", y=\"Expression\", cut=0, ax=ax, hue=\"Tumor stage\", order=[\"T1, T2\", \"T3, T4\"], legend=False, palette=palette) #, hue_order=[True, False], palette=palette)#, order=[True, False])\n",
    "        ax.get_legend().remove()\n",
    "        ax.set(xlabel=None)\n",
    "        if i != 0:\n",
    "            ax.set(ylabel=None)\n",
    "        else:\n",
    "            ax.set(ylabel=\"Expression\\n ROI cells\")\n",
    "        #ax.set_yscale(\"log\")\n",
    "        ax = axs[1, i]\n",
    "    \n",
    "    subset = melted_rest[melted_rest[\"Gene\"] == m].copy()    \n",
    "    cutoff = np.quantile(subset[\"Expression\"], 0.9)\n",
    "    subset = subset[subset[\"Expression\"] < cutoff]\n",
    "    t = np.median(subset[subset[\"Tumor stage\"] == \"T1, T2\"][\"Expression\"]) - np.median(subset[subset[\"Tumor stage\"] == \"T3, T4\"][\"Expression\"])\n",
    "    t_rest.append(t)\n",
    "\n",
    "    if plot:\n",
    "        ax.set_title(f\"{m}\\n$Δ_{{med, all}}={np.round(t, 3):.3f}$\")\n",
    "        sns.violinplot(subset, x=\"Tumor stage\", y=\"Expression\", cut=0, ax=ax, hue=\"Tumor stage\", order=[\"T1, T2\", \"T3, T4\"], legend=False, palette=palette) #, hue_order=[True, False], palette=palette)#, order=[True, False])\n",
    "        ax.get_legend().remove()\n",
    "        if i != 0:\n",
    "            ax.set(ylabel=None)\n",
    "        else:\n",
    "            ax.set(ylabel=\"Expression\\nin all cells\")\n",
    "        #ax.set_yscale(\"log\")\n",
    "if plot: \n",
    "    legend_handles = [Patch(color=color, label=key) for key, color in palette.items()]\n",
    "    plt.figlegend(handles=legend_handles, loc=\"upper center\", ncol=2, frameon=False)\n",
    "    plt.tight_layout()\n",
    "#plt.savefig(\"../result_plots/expression_per_tumor_stage_all_rois.pdf\", bbox_inches='tight') \n",
    "#plt.savefig(\"../result_plots/expression_per_tumor_stage_all_vs_rois.pdf\", bbox_inches='tight') "
   ]
  },
  {
   "cell_type": "code",
   "execution_count": null,
   "metadata": {},
   "outputs": [],
   "source": [
    "plot = False\n",
    "markers = df.columns[:-6] \n",
    "melted_in = df[df[\"in_roi\"] == True].drop(\"in_roi\", axis=1).melt(id_vars=['condition', 'cell_types', 'tumor_stage', 'coarse_tumor_stage', 'histo_id'], var_name=\"Gene\")\n",
    "melted_rest = df.drop(\"in_roi\", axis=1).melt(id_vars=['condition', 'cell_types', 'tumor_stage', 'coarse_tumor_stage', 'histo_id'], var_name=\"Gene\")\n",
    "melted_in.rename({\"coarse_tumor_stage\": \"Tumor stage\", \"value\": \"Expression\"}, inplace=True, axis=1)\n",
    "melted_rest.rename({\"coarse_tumor_stage\": \"Tumor stage\", \"value\": \"Expression\"}, inplace=True, axis=1)\n",
    "\n",
    "if plot:\n",
    "    plt.clf()\n",
    "    fig, axs = plt.subplots(2, len(markers), figsize=(10, 5), sharex=True, sharey=\"col\")\n",
    "\n",
    "t_ins = list()\n",
    "t_rest = list()\n",
    "for i, m in enumerate(markers):\n",
    "    if plot:\n",
    "        ax = axs[0, i]\n",
    "        ax.legend(\"off\")\n",
    "    subset = melted_in[melted_in[\"Gene\"] == m].copy()    \n",
    "    cutoff = np.quantile(subset[\"Expression\"], 0.95)\n",
    "    subset = subset[subset[\"Expression\"] < cutoff]\n",
    "\n",
    "    t = np.median(subset[subset[\"Tumor stage\"] == \"T1, T2\"][\"Expression\"]) - np.median(subset[subset[\"Tumor stage\"] == \"T3, T4\"][\"Expression\"])\n",
    "    t_ins.append(t)\n",
    "    if plot:\n",
    "        ax.set_title(f\"\\n{m}\\n$Δ_{{med, ROI}}={np.round(t, 3):.3f}$\")\n",
    "        sns.violinplot(subset, x=\"Tumor stage\", y=\"Expression\", cut=0, ax=ax, hue=\"Tumor stage\", order=[\"T1, T2\", \"T3, T4\"], legend=False, palette=palette) #, hue_order=[True, False], palette=palette)#, order=[True, False])\n",
    "        ax.get_legend().remove()\n",
    "        ax.set(xlabel=None)\n",
    "        if i != 0:\n",
    "            ax.set(ylabel=None)\n",
    "        else:\n",
    "            ax.set(ylabel=\"Expression\\n ROI cells\")\n",
    "        #ax.set_yscale(\"log\")\n",
    "        ax = axs[1, i]\n",
    "    \n",
    "    subset = melted_rest[melted_rest[\"Gene\"] == m].copy()    \n",
    "    cutoff = np.quantile(subset[\"Expression\"], 0.95)\n",
    "    subset = subset[subset[\"Expression\"] < cutoff]\n",
    "    t = np.median(subset[subset[\"Tumor stage\"] == \"T1, T2\"][\"Expression\"]) - np.median(subset[subset[\"Tumor stage\"] == \"T3, T4\"][\"Expression\"])\n",
    "    t_rest.append(t)\n",
    "\n",
    "    if plot:\n",
    "        ax.set_title(f\"{m}\\n$Δ_{{med, all}}={np.round(t, 3):.3f}$\")\n",
    "        sns.violinplot(subset, x=\"Tumor stage\", y=\"Expression\", cut=0, ax=ax, hue=\"Tumor stage\", order=[\"T1, T2\", \"T3, T4\"], legend=False, palette=palette) #, hue_order=[True, False], palette=palette)#, order=[True, False])\n",
    "        ax.get_legend().remove()\n",
    "        if i != 0:\n",
    "            ax.set(ylabel=None)\n",
    "        else:\n",
    "            ax.set(ylabel=\"Expression\\nin all cells\")\n",
    "        #ax.set_yscale(\"log\")\n",
    "if plot: \n",
    "    legend_handles = [Patch(color=color, label=key) for key, color in palette.items()]\n",
    "    plt.figlegend(handles=legend_handles, loc=\"upper center\", ncol=2, frameon=False)\n",
    "    plt.tight_layout()\n",
    "#plt.savefig(\"../result_plots/expression_per_tumor_stage_all_rois.pdf\", bbox_inches='tight') \n",
    "#plt.savefig(\"../result_plots/expression_per_tumor_stage_all_vs_rois.pdf\", bbox_inches='tight') "
   ]
  },
  {
   "cell_type": "code",
   "execution_count": null,
   "metadata": {},
   "outputs": [],
   "source": [
    "plt.plot(t_rest, label=\"all\")\n",
    "plt.plot(t_ins, label=\"roi\")\n",
    "plt.plot(np.abs(np.array(t_ins)-np.array(t_rest)))\n",
    "plt.xticks(range(len(markers)), labels=markers, rotation=90)\n",
    "plt.legend()"
   ]
  },
  {
   "cell_type": "code",
   "execution_count": null,
   "metadata": {},
   "outputs": [],
   "source": [
    "np.where((np.abs(np.array(t_ins)-np.array(t_rest)) > 0.02) & (np.abs(np.array(t_ins)) > np.abs(np.array(t_rest))))"
   ]
  },
  {
   "cell_type": "code",
   "execution_count": null,
   "metadata": {},
   "outputs": [],
   "source": [
    "markers[np.where((np.abs(np.array(t_ins)-np.array(t_rest)) > 0.02) & (np.abs(np.array(t_ins)) > np.abs(np.array(t_rest))))]"
   ]
  },
  {
   "cell_type": "code",
   "execution_count": null,
   "metadata": {},
   "outputs": [],
   "source": [
    "np.unique(melted_in[\"condition\"], return_counts=True)"
   ]
  },
  {
   "cell_type": "code",
   "execution_count": null,
   "metadata": {},
   "outputs": [],
   "source": [
    "\n",
    "sns.set_theme(\"paper\")\n",
    "palette = {\"T1, T2\": \"#f57d05\", \"T3, T4\": \"#8634b3\"}\n",
    "f, ax = plt.subplots(1, len(interesting_roi), figsize=(4, 3))\n",
    "i = 0\n",
    "for cell_type in interesting_roi:\n",
    "    subset = melted_in[(melted_in[\"cell_types\"] == cell_type) & (melted_in[\"Gene\"].isin(interesting_roi[cell_type]))] # \n",
    "    cutoff = np.quantile(subset[\"Expression\"], 0.95)\n",
    "    subset = subset[subset[\"Expression\"] < cutoff]\n",
    "    sns.violinplot(data=subset, x=\"Gene\", y=\"Expression\", ax=ax, hue=\"Tumor stage\", legend=False, palette=palette, hue_order=[\"T1, T2\", \"T3, T4\"], order=[\"GJA1\", \"NOTCH1\", \"TP73\"])\n",
    "    ax.set_title(cell_type)\n",
    "    #if i == 1:\n",
    "    legend_handles = [Patch(color=color, label=key) for key, color in palette.items()]\n",
    "    ax.legend(handles=legend_handles, loc=(0.23, 1.15), ncol=2, frameon=False)\n",
    "    #else:\n",
    "    #ax.legend(\"\", frameon=False)\n",
    "    ax.set(ylabel=\"Expression in Endothelial cells\")\n",
    "    \n",
    "plt.tight_layout()\n",
    "#plt.suptitle(\"Marker distribution in cell types in ROIs vs. rest\")\n",
    "#plt.savefig(\"../result_plots/violins_cell_types_ROI.pdf\")"
   ]
  },
  {
   "cell_type": "code",
   "execution_count": null,
   "metadata": {},
   "outputs": [],
   "source": [
    "interesting_roi = { \"Endothelial cells\": [\"GJA1\", \"NOTCH1\", \"TP73\"],\n",
    "}\n",
    "melted = melted_in\n",
    "sns.set_theme(\"paper\")\n",
    "palette = {\"T1, T2\": \"#f57d05\", \"T3, T4\": \"#8634b3\"}\n",
    "f, ax = plt.subplots(1, len(interesting_roi), figsize=(4, 3))\n",
    "i = 0\n",
    "for cell_type in interesting_roi:\n",
    "    subset = melted[(melted[\"cell_types\"] == cell_type) & (melted[\"Gene\"].isin(interesting_roi[cell_type]))] # \n",
    "    cutoff = np.quantile(subset[\"Expression\"], 0.95)\n",
    "    subset = subset[subset[\"Expression\"] < cutoff]\n",
    "    sns.violinplot(data=subset, x=\"Gene\", y=\"Expression\", ax=ax, hue=\"Tumor stage\", legend=False, palette=palette, hue_order=[\"T1, T2\", \"T3, T4\"], order=[\"GJA1\", \"NOTCH1\", \"TP73\"])\n",
    "    ax.set_title(cell_type)\n",
    "    #if i == 1:\n",
    "    legend_handles = [Patch(color=color, label=key) for key, color in palette.items()]\n",
    "    ax.legend(handles=legend_handles, loc=(0.23, 1.15), ncol=2, frameon=False)\n",
    "    #else:\n",
    "    #ax.legend(\"\", frameon=False)\n",
    "    ax.set(ylabel=\"Expression in Endothelial cells\")\n",
    "    \n",
    "plt.tight_layout()\n",
    "#plt.suptitle(\"Marker distribution in cell types in ROIs vs. rest\")\n",
    "#plt.savefig(\"../result_plots/violins_cell_types_ROI.pdf\")"
   ]
  },
  {
   "cell_type": "code",
   "execution_count": null,
   "metadata": {},
   "outputs": [],
   "source": [
    "#np.logical_or((np.abs(diffdiff)<0.05),(np.abs(med_diffs_roi)<0.05))"
   ]
  }
 ],
 "metadata": {
  "kernelspec": {
   "display_name": "Python 3 (ipykernel)",
   "language": "python",
   "name": "python3"
  },
  "language_info": {
   "codemirror_mode": {
    "name": "ipython",
    "version": 3
   },
   "file_extension": ".py",
   "mimetype": "text/x-python",
   "name": "python",
   "nbconvert_exporter": "python",
   "pygments_lexer": "ipython3",
   "version": "3.9.18"
  }
 },
 "nbformat": 4,
 "nbformat_minor": 4
}
