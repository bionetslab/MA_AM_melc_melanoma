{
 "cells": [
  {
   "cell_type": "code",
   "execution_count": 1,
   "id": "45226f80-0ca4-408e-b98b-ee47bf92fb6c",
   "metadata": {},
   "outputs": [
    {
     "name": "stderr",
     "output_type": "stream",
     "text": [
      "2024-06-25 11:11:32.060058: I tensorflow/core/util/port.cc:113] oneDNN custom operations are on. You may see slightly different numerical results due to floating-point round-off errors from different computation orders. To turn them off, set the environment variable `TF_ENABLE_ONEDNN_OPTS=0`.\n",
      "2024-06-25 11:11:32.104172: I tensorflow/core/platform/cpu_feature_guard.cc:210] This TensorFlow binary is optimized to use available CPU instructions in performance-critical operations.\n",
      "To enable the following instructions: AVX2 AVX512F AVX512_VNNI FMA, in other operations, rebuild TensorFlow with the appropriate compiler flags.\n",
      "2024-06-25 11:11:32.930887: W tensorflow/compiler/tf2tensorrt/utils/py_utils.cc:38] TF-TRT Warning: Could not find TensorRT\n"
     ]
    }
   ],
   "source": [
    "import pandas as pd\n",
    "import numpy as np\n",
    "from sklearn.ensemble import RandomForestClassifier\n",
    "import seaborn as sns\n",
    "import sys\n",
    "import matplotlib.pyplot as plt\n",
    "from sklearn.metrics import accuracy_score, f1_score, roc_auc_score, recall_score, precision_score, auc, RocCurveDisplay, roc_curve, confusion_matrix\n",
    "sys.path.append(\"..\")\n",
    "from src import *"
   ]
  },
  {
   "cell_type": "code",
   "execution_count": 2,
   "id": "a7aee513-933c-473b-8f80-7b509a409c75",
   "metadata": {},
   "outputs": [],
   "source": [
    "%load_ext autoreload\n",
    "%autoreload 2"
   ]
  },
  {
   "cell_type": "code",
   "execution_count": 3,
   "id": "12a13968-afb2-4582-9f0d-93dfa21c038d",
   "metadata": {},
   "outputs": [],
   "source": [
    "base = \"/data/bionets\" if \"ramses\" in os.uname()[1] else \"/data_nfs/\"\n",
    "config_path = \"/data/bionets/je30bery/melanoma_data/config.json\" if \"ramses\" in os.uname()[1] else \"/data_nfs/je30bery/melanoma_data/config.json\""
   ]
  },
  {
   "cell_type": "code",
   "execution_count": 4,
   "id": "d096e2a7-1279-4f46-97df-3bbb7ab819a1",
   "metadata": {},
   "outputs": [],
   "source": [
    "data = get_data_csv(groups=[\"Melanoma\", \"Nevus\"], high_quality_only=False, pfs=True, config_path=config_path)\n",
    "data = data.reset_index().drop(\"index\", axis=1)"
   ]
  },
  {
   "cell_type": "code",
   "execution_count": 5,
   "id": "66b56c64-2fbd-4259-acce-bd66c7088174",
   "metadata": {},
   "outputs": [],
   "source": [
    "with open(config_path, \"r\") as f:\n",
    "    configs = json.load(f)\n",
    "    dataset_statistics = configs[\"dataset_statistics\"]\n",
    "    checkpoint_path = configs[\"model_weights\"]\n",
    "    pretrained_model = configs[\"pretrained_model_path\"]\n",
    "\n",
    "with open(os.path.join(dataset_statistics, f'melanoma_means.json'), 'r') as fp:\n",
    "    means = json.load(fp)\n",
    "    markers = list(means.keys())"
   ]
  },
  {
   "cell_type": "code",
   "execution_count": 6,
   "id": "bc90ab1d-6fa6-483d-a94f-04b27fad0c64",
   "metadata": {},
   "outputs": [],
   "source": [
    "splits = {\n",
    "    0: ['B513'],\n",
    "    1: ['B279'],\n",
    "    2: ['B484'],\n",
    "    3: ['B033', 'B032', 'B031', 'B029', 'B030'],\n",
    "    4: ['B104'],\n",
    "    5: ['B148'],\n",
    "    6: ['B196'],\n",
    "    7: ['B407'],\n",
    "    8: ['B217'],\n",
    "    9: ['B515'],\n",
    "    10: ['B023'],\n",
    "    11: ['B168'],\n",
    "    12: ['B345'],\n",
    "    13: ['B397'],\n",
    "    14: ['B096'],\n",
    "    15: ['B502', 'B503'],\n",
    "    16: ['B390'],\n",
    "    17: ['B218'],\n",
    "    18: ['B488', 'B487'],\n",
    "    19: ['B274'],\n",
    "    20: ['B462'],\n",
    "    21: ['B497']\n",
    "}"
   ]
  },
  {
   "cell_type": "code",
   "execution_count": 7,
   "id": "7ce45e9c-785f-43b7-8145-b8cf9060f941",
   "metadata": {
    "scrolled": true
   },
   "outputs": [
    {
     "name": "stderr",
     "output_type": "stream",
     "text": [
      "100%|█████████████████████████████████████████████████████████████| 22/22 [03:44<00:00, 10.20s/it]\n"
     ]
    }
   ],
   "source": [
    "model = ResNet18_smoothgrad(indim=len(markers), cam=True, checkpoint_path=checkpoint_path)\n",
    "model = model.to(\"cuda:0\")\n",
    "finetuned_models_path = \"../src/model/final_finetuned_models/\"\n",
    "finetuned_models = os.listdir(finetuned_models_path)\n",
    "subsets = list()\n",
    "data[\"Prediction\"] = 0\n",
    "\n",
    "for split in tqdm(splits):\n",
    "    data_subset = data[data[\"Histo-ID\"].isin(splits[split])]\n",
    "    if len(data_subset) == 0:\n",
    "        continue\n",
    "    dl = t.utils.data.DataLoader(MelanomaData(markers, pretrain=False, data=data_subset, mode=\"val\", config_path=config_path), batch_size=1, shuffle=False)\n",
    "    model_path = [m for m in finetuned_models if f\"split={split}\" in m][0]\n",
    "    model.load_state_dict(t.load(os.path.join(finetuned_models_path, model_path), map_location=\"cuda:0\"), strict=True)\n",
    "    model.eval()\n",
    "    it = iter(dl)\n",
    "    preds = list()\n",
    "    for i in range(len(data_subset)):\n",
    "        x, y, _ = next(it)\n",
    "        y_pred = model(x.cuda()).detach().cpu().numpy().item()\n",
    "        preds.append(y_pred)     \n",
    "    data.loc[data[\"Histo-ID\"].isin(splits[split]), \"Prediction\"] = preds"
   ]
  },
  {
   "cell_type": "code",
   "execution_count": 21,
   "id": "c91ab9ec-e4f1-4bf3-8394-106eeb2d73e6",
   "metadata": {},
   "outputs": [
    {
     "name": "stderr",
     "output_type": "stream",
     "text": [
      "100%|████████████████████████████████████████████████████████████| 22/22 [00:00<00:00, 676.76it/s]\n"
     ]
    }
   ],
   "source": [
    "accs = list()\n",
    "labels = list()\n",
    "preds = list()\n",
    "for split in tqdm(splits):\n",
    "    for histo_id in splits[split]:\n",
    "        data_subset = data[data[\"Histo-ID\"] == histo_id]\n",
    "        label = data_subset[\"PFS label\"]\n",
    "        labels.append(np.unique(label)[0])\n",
    "        pred = data_subset[\"Prediction\"]\n",
    "        accs.append(accuracy_score(y_true=label, y_pred=pred > 0.48))\n",
    "accs = np.array(accs)\n",
    "labels = np.array(labels)"
   ]
  },
  {
   "cell_type": "code",
   "execution_count": 22,
   "id": "3645afe3-04e7-4610-a9a6-43fb8cd01aa2",
   "metadata": {},
   "outputs": [
    {
     "name": "stdout",
     "output_type": "stream",
     "text": [
      "28 0.8678571428571429\n",
      "20 0.865\n",
      "8 0.875\n",
      "\n"
     ]
    }
   ],
   "source": [
    "print(len(accs), np.mean(accs))\n",
    "print(np.sum(labels==0), np.mean(accs[np.where(labels==0)]))\n",
    "print(np.sum(labels==1), np.mean(accs[np.where(labels==1)]))\n",
    "print()"
   ]
  },
  {
   "cell_type": "code",
   "execution_count": 23,
   "id": "ff7ff723-4b49-40ed-8708-65a74ed48a05",
   "metadata": {
    "scrolled": true
   },
   "outputs": [
    {
     "name": "stderr",
     "output_type": "stream",
     "text": [
      "100%|███████████████████████████████████████████████████████████| 22/22 [00:00<00:00, 1796.70it/s]\n"
     ]
    }
   ],
   "source": [
    "accs = list()\n",
    "labels = list()\n",
    "preds = list()\n",
    "for split in tqdm(splits):\n",
    "    for histo_id in splits[split]:\n",
    "        data_subset = data[data[\"Histo-ID\"] == histo_id]\n",
    "        label = np.unique(data_subset[\"PFS label\"])[0]\n",
    "        labels.append(label)\n",
    "        preds.append(np.mean(data_subset[\"Prediction\"]))"
   ]
  },
  {
   "cell_type": "code",
   "execution_count": 24,
   "id": "513fe2d5-0c88-41b9-8b88-19f18e8cc981",
   "metadata": {},
   "outputs": [
    {
     "data": {
      "text/plain": [
       "28"
      ]
     },
     "execution_count": 24,
     "metadata": {},
     "output_type": "execute_result"
    }
   ],
   "source": [
    "len(preds)"
   ]
  },
  {
   "cell_type": "code",
   "execution_count": 40,
   "id": "205a0a87-efc0-458a-8476-c8f2d99b0a97",
   "metadata": {},
   "outputs": [
    {
     "name": "stdout",
     "output_type": "stream",
     "text": [
      "[[18  2]\n",
      " [ 1  7]]\n",
      "0.8928571428571429\n",
      "Accuracy 0.8928571428571429\n",
      "F1 0.823529411764706\n",
      "AUC-ROC 0.8875\n",
      "Recall 0.875\n",
      "Precision 0.7777777777777778\n",
      "Accuracy in negative class 0.9\n",
      "Accuracy in positive class 0.875\n",
      "Sensitivity (Recall): 0.875\n",
      "Specificity: 0.9\n",
      "0.9875\n"
     ]
    }
   ],
   "source": [
    "binary_preds = np.array(preds) >= 0.5\n",
    "labels = np.array(labels)\n",
    "\n",
    "print(confusion_matrix(y_true=labels, y_pred=binary_preds))\n",
    "print(accuracy_score(y_true=labels, y_pred=binary_preds))\n",
    "print_metrics(y_true=labels, y_pred=binary_preds)\n",
    "print(roc_auc_score(y_true=labels, y_score=preds))"
   ]
  },
  {
   "cell_type": "code",
   "execution_count": 27,
   "id": "103f2ab0-c892-4f69-8a4e-f379f3aba5c0",
   "metadata": {},
   "outputs": [
    {
     "data": {
      "image/png": "[encoded data removed]",
      "text/plain": [
       "<Figure size 640x480 with 1 Axes>"
      ]
     },
     "metadata": {},
     "output_type": "display_data"
    }
   ],
   "source": [
    "#fig, axs = plt.subplots(1, 2, figsize=(6, 3), sharey=True)  # Adjust the figsize as needed\n",
    "\n",
    "#y = data[\"PFS label\"]\n",
    "#pred = data[\"Prediction\"]\n",
    "#fpr, tpr, thresholds = roc_curve(y, pred)\n",
    "#roc_auc = auc(fpr, tpr)\n",
    "#display = RocCurveDisplay(fpr=fpr, tpr=tpr, roc_auc=roc_auc)\n",
    "#display.plot(ax=axs[0])\n",
    "\n",
    "fpr, tpr, thresholds = roc_curve(labels, preds)\n",
    "roc_auc = auc(fpr, tpr)\n",
    "display = RocCurveDisplay(fpr=fpr, tpr=tpr, roc_auc=roc_auc)\n",
    "display.plot() #ax=axs[1]\n",
    "plt.show()\n",
    "#plt.savefig(\"PFS_prediction_AUC.pdf\", bbox_inches=\"tight\")"
   ]
  }
 ],
 "metadata": {
  "kernelspec": {
   "display_name": "Python 3 (ipykernel)",
   "language": "python",
   "name": "python3"
  },
  "language_info": {
   "codemirror_mode": {
    "name": "ipython",
    "version": 3
   },
   "file_extension": ".py",
   "mimetype": "text/x-python",
   "name": "python",
   "nbconvert_exporter": "python",
   "pygments_lexer": "ipython3",
   "version": "3.9.18"
  }
 },
 "nbformat": 4,
 "nbformat_minor": 5
}
