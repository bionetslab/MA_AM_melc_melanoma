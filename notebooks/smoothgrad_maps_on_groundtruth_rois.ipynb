{
 "cells": [
  {
   "cell_type": "code",
   "execution_count": 1,
   "id": "5aacb9d1-181f-4064-9069-c75d67a67a9a",
   "metadata": {
    "scrolled": true
   },
   "outputs": [
    {
     "name": "stderr",
     "output_type": "stream",
     "text": [
      "2024-06-25 15:03:02.576182: I tensorflow/core/util/port.cc:113] oneDNN custom operations are on. You may see slightly different numerical results due to floating-point round-off errors from different computation orders. To turn them off, set the environment variable `TF_ENABLE_ONEDNN_OPTS=0`.\n",
      "2024-06-25 15:03:02.620190: I tensorflow/core/platform/cpu_feature_guard.cc:210] This TensorFlow binary is optimized to use available CPU instructions in performance-critical operations.\n",
      "To enable the following instructions: AVX2 AVX512F AVX512_VNNI FMA, in other operations, rebuild TensorFlow with the appropriate compiler flags.\n",
      "2024-06-25 15:03:03.517617: W tensorflow/compiler/tf2tensorrt/utils/py_utils.cc:38] TF-TRT Warning: Could not find TensorRT\n"
     ]
    }
   ],
   "source": [
    "import os\n",
    "base = \"/data/bionets\" if \"ramses\" in os.uname()[1] else \"/data_nfs/\"\n",
    "\n",
    "import cv2 \n",
    "import sys\n",
    "import seaborn as sns\n",
    "import numpy as np\n",
    "import matplotlib.pyplot as plt\n",
    "import pickle\n",
    "import pandas as pd\n",
    "import torch as t\n",
    "from tqdm import tqdm\n",
    "\n",
    "os.environ[\"CUDA_VISIBLE_DEVICES\"]=\"1\"\n",
    "sys.path.append(\"..\")\n",
    "from src import *"
   ]
  },
  {
   "cell_type": "code",
   "execution_count": 2,
   "id": "1e5becc9-7c58-4f2d-9d1f-aa58dfd8e736",
   "metadata": {},
   "outputs": [],
   "source": [
    "%load_ext autoreload\n",
    "%autoreload 2"
   ]
  },
  {
   "cell_type": "code",
   "execution_count": 3,
   "id": "cf060dfa-3ce7-4599-a7ae-cb3be07c9cb3",
   "metadata": {},
   "outputs": [],
   "source": [
    "config_path = \"../config.json\"\n",
    "with open(config_path, \"r\") as f:\n",
    "    configs = json.load(f)\n",
    "    dataset_statistics = configs[\"dataset_statistics\"]\n",
    "    checkpoint_path = configs[\"model_weights\"]\n",
    "    pretrained_model_path = configs[\"pretrained_model_path\"]\n",
    "    roi_save_path = configs[\"PFS_ROIs\"]"
   ]
  },
  {
   "cell_type": "code",
   "execution_count": 4,
   "id": "3194af4f-16d1-49f2-a254-b8eb7c3f387e",
   "metadata": {},
   "outputs": [],
   "source": [
    "markers = ['ADAM10', 'Bcl-2', 'CD10', 'CD107a', 'CD13', 'CD138', 'CD14', 'CD1a', 'CD2', 'CD25', 'CD271', 'CD3', 'CD36', 'CD4', 'CD44', 'CD45', 'CD45RA', 'CD45RO', 'CD5', 'CD56', 'CD6', 'CD63', 'CD66abce', 'CD7', 'CD71', 'CD8', 'CD9', 'CD95', 'Collagen IV', 'Cytokeratin-14', 'EBF-P', 'EGFR', 'EGFR-AF488', 'HLA-ABC', 'HLA-DR', 'KIP1', 'Ki67', 'L302', 'MCSP', 'Melan-A', 'Nestin-AF488', 'Notch-1', 'Notch-3', 'PPARgamma', 'PPB', 'RIM3', 'TAP73', 'Vimentin', 'p63', 'phospho-Connexin', \"Propidium iodide\"]    "
   ]
  },
  {
   "cell_type": "code",
   "execution_count": 5,
   "id": "9159f9b7-eedb-4d58-b9b7-5f016dd9e025",
   "metadata": {},
   "outputs": [],
   "source": [
    "data = get_data_csv(high_quality_only=True, pfs=True, config_path=os.path.join(\"/data_nfs\", \"je30bery/melanoma_data/config.json\"))\n",
    "data = data.reset_index().drop(\"index\", axis=1)"
   ]
  },
  {
   "cell_type": "code",
   "execution_count": 6,
   "id": "b40d1923-bef5-4ba2-8ed2-03082aeb8bdb",
   "metadata": {},
   "outputs": [
    {
     "data": {
      "text/plain": [
       "54"
      ]
     },
     "execution_count": 6,
     "metadata": {},
     "output_type": "execute_result"
    }
   ],
   "source": [
    "len(data)"
   ]
  },
  {
   "cell_type": "code",
   "execution_count": 7,
   "id": "4ed8e2c7-eaf6-4e77-86c5-40f46a5f1d59",
   "metadata": {},
   "outputs": [],
   "source": [
    "rois = [os.path.splitext(f)[0][7:] for f in os.listdir(\"../data/ROIs/ground_truth_ROI/filled\") if \"filled\" in f]\n",
    "#data = data[data[\"file_path\"].isin(rois)]\n",
    "#data = data[data[\"file_path\"] == 'Melanoma_35_202009031055_3']"
   ]
  },
  {
   "cell_type": "code",
   "execution_count": 8,
   "id": "2b111311-b12c-48e1-8641-be6891f1fc75",
   "metadata": {},
   "outputs": [],
   "source": [
    "splits = {\n",
    "    0: ['B513'],\n",
    "    1: ['B279'],\n",
    "    2: ['B484'],\n",
    "    3: ['B033', 'B032', 'B031', 'B029', 'B030'],\n",
    "    4: ['B104'],\n",
    "    5: ['B148'],\n",
    "    6: ['B196'],\n",
    "    7: ['B407'],\n",
    "    8: ['B217'],\n",
    "    9: ['B515'],\n",
    "    10: ['B023'],\n",
    "    11: ['B168'],\n",
    "    12: ['B345'],\n",
    "    13: ['B397'],\n",
    "    14: ['B096'],\n",
    "    15: ['B502', 'B503'],\n",
    "    16: ['B390'],\n",
    "    17: ['B218'],\n",
    "    18: ['B488', 'B487'],\n",
    "    19: ['B274'],\n",
    "    20: ['B462'],\n",
    "    21: ['B497']\n",
    "}"
   ]
  },
  {
   "cell_type": "code",
   "execution_count": 9,
   "id": "d7d2cddd-673a-4b65-a7d8-428a84e481b1",
   "metadata": {},
   "outputs": [
    {
     "name": "stdout",
     "output_type": "stream",
     "text": [
      "54\n"
     ]
    }
   ],
   "source": [
    "print(len(data))"
   ]
  },
  {
   "cell_type": "code",
   "execution_count": 10,
   "id": "f30c2c77-3ede-4e53-b46a-1bd952a99bdb",
   "metadata": {},
   "outputs": [
    {
     "name": "stderr",
     "output_type": "stream",
     "text": [
      "100%|█████████████████████████████████████████████████████████████████████████████████████████████████████████████████████████████████████████████████████████████████████████████| 22/22 [14:43<00:00, 40.18s/it]\n"
     ]
    }
   ],
   "source": [
    "try:\n",
    "    gcs = np.load(\"gcsdfd.npy\")\n",
    "except:\n",
    "    model = ResNet18_smoothgrad(indim=len(markers), cam=True, checkpoint_path=checkpoint_path)\n",
    "    model = model.to(\"cuda:0\")\n",
    "    finetuned_models_path = \"../src/model/final_finetuned_models/\"\n",
    "    finetuned_models = os.listdir(finetuned_models_path)\n",
    "    gcs = list()\n",
    "    filepaths = list()\n",
    "    for split in tqdm(splits):\n",
    "        data_subset = data[data[\"Histo-ID\"].isin(splits[split])]\n",
    "        if len(data_subset) == 0:\n",
    "            continue\n",
    "        filepaths.append(data_subset[\"file_path\"].values)\n",
    "        dl = t.utils.data.DataLoader(MelanomaData(markers, pretrain=False, data=data_subset, mode=\"val\", config_path=config_path), batch_size=1, shuffle=False)\n",
    "        model_path = [m for m in finetuned_models if f\"split={split}\" in m][0]\n",
    "        model.load_state_dict(t.load(os.path.join(finetuned_models_path, model_path), map_location=\"cuda:0\"), strict=True)\n",
    "        model.eval()\n",
    "        noise_correction = get_smooth_grad(None, model, cuda=True, n_smooth=20, noise_std=0.15)\n",
    "        corrector = np.mean(noise_correction, axis=-1)\n",
    "        #corrector /= np.max(corrector)\n",
    "        gc = get_smooth_grad(dl, model, cuda=True, n_smooth=10, noise_std=0.15)\n",
    "        for i in range(gc.shape[-1]):\n",
    "            gradcam = gc[:,:,i] \n",
    "            gradcam /= np.max(gradcam)\n",
    "            corrected = gradcam - corrector\n",
    "            corrected = np.where(corrected > 0, corrected, 0)\n",
    "            gcs.append(corrected)\n",
    "    filepaths = np.concatenate(filepaths)"
   ]
  },
  {
   "cell_type": "code",
   "execution_count": 14,
   "id": "775a4903-b44a-4975-bdfa-7d7d02699099",
   "metadata": {},
   "outputs": [],
   "source": [
    "for filepath, gc in zip(filepaths, gcs):\n",
    "    segmented = os.path.join(base, \"datasets/melc/melanoma/\", \"segmented\", f'{filepath}_cells.npy')\n",
    "    with open(segmented, \"rb\") as openfile:\n",
    "        seg_file = np.load(openfile)\n",
    "    img, roi_cells = get_binary(gc, seg_file, output_size=512, cutoff=0.9)\n",
    "    os.makedirs(roi_save_path, exist_ok=True)\n",
    "    with open(os.path.join(roi_save_path, filepath + \"_idxs.pkl\"), \"wb\") as fp:\n",
    "        pickle.dump(roi_cells, fp)"
   ]
  },
  {
   "cell_type": "code",
   "execution_count": 15,
   "id": "721793f9-0aae-450f-9ac6-acdbee0a30e9",
   "metadata": {},
   "outputs": [
    {
     "data": {
      "text/plain": [
       "<matplotlib.image.AxesImage at 0x760b23bb23a0>"
      ]
     },
     "execution_count": 15,
     "metadata": {},
     "output_type": "execute_result"
    },
    {
     "data": {
      "image/png": "[encoded data removed]",
      "text/plain": [
       "<Figure size 640x480 with 1 Axes>"
      ]
     },
     "metadata": {},
     "output_type": "display_data"
    }
   ],
   "source": [
    "plt.imshow(img)"
   ]
  },
  {
   "cell_type": "code",
   "execution_count": null,
   "id": "60ca2d0e-ebd8-4232-81c7-73dedf21078b",
   "metadata": {},
   "outputs": [],
   "source": []
  }
 ],
 "metadata": {
  "kernelspec": {
   "display_name": "Python 3 (ipykernel)",
   "language": "python",
   "name": "python3"
  },
  "language_info": {
   "codemirror_mode": {
    "name": "ipython",
    "version": 3
   },
   "file_extension": ".py",
   "mimetype": "text/x-python",
   "name": "python",
   "nbconvert_exporter": "python",
   "pygments_lexer": "ipython3",
   "version": "3.9.18"
  }
 },
 "nbformat": 4,
 "nbformat_minor": 5
}
