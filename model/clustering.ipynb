{
 "cells": [
  {
   "cell_type": "code",
   "execution_count": 1,
   "id": "6e4441f6-f422-4285-83ac-b28afd090661",
   "metadata": {},
   "outputs": [
    {
     "data": {
      "text/plain": [
       "'/data_nfs/je30bery/melanoma_data/model/Clustering'"
      ]
     },
     "execution_count": 1,
     "metadata": {},
     "output_type": "execute_result"
    }
   ],
   "source": [
    "%load_ext autoreload\n",
    "%autoreload 2\n",
    "import torch as t\n",
    "import cv2 \n",
    "import sys\n",
    "sys.path.append(\"/data_nfs/je30bery/melanoma_data/model\")\n",
    "from model import EfficientnetWithFinetuning\n",
    "from data import MelanomaData\n",
    "import os\n",
    "import numpy as np\n",
    "import matplotlib.pyplot as plt\n",
    "from sklearn.cluster import KMeans\n",
    "from sklearn.metrics import silhouette_score, f1_score, accuracy_score\n",
    "from sklearn.decomposition import PCA\n",
    "import random \n",
    "import pandas as pd\n",
    "import seaborn as sns\n",
    "\n",
    "plt.style.use('dark_background')\n",
    "os.environ[\"CUDA_VISIBLE_DEVICES\"]=\"1\"\n",
    "\n",
    "os.getcwd()"
   ]
  },
  {
   "cell_type": "code",
   "execution_count": 2,
   "id": "841f7c14-a14a-48a3-9078-28a7ac62f2db",
   "metadata": {},
   "outputs": [],
   "source": [
    "markers = ['ADAM10', 'Bcl-2', 'CD10', 'CD107a', 'CD13', 'CD138', 'CD14', 'CD1a', 'CD2', 'CD25', 'CD271', 'CD3', 'CD36', 'CD4', 'CD44', 'CD45', 'CD45RA', 'CD45RO', 'CD5', 'CD56', 'CD6', 'CD63', 'CD66abce', 'CD7', 'CD71', 'CD8', 'CD9', 'CD95', 'Collagen IV', 'Cytokeratin-14', 'EBF-P', 'EGFR', 'EGFR-AF488', 'HLA-ABC', 'HLA-DR', 'KIP1', 'Ki67', 'L302', 'MCSP', 'Melan-A', 'Nestin-AF488', 'Notch-1', 'Notch-3', 'PPARgamma', 'PPB', 'RIM3', 'TAP73', 'Vimentin', 'p63', 'phospho-Connexin']    "
   ]
  },
  {
   "cell_type": "code",
   "execution_count": 3,
   "id": "2f477421-b0ef-432e-9598-8fcb729740ac",
   "metadata": {},
   "outputs": [
    {
     "ename": "FileNotFoundError",
     "evalue": "[Errno 2] No such file or directory: '/data_nfs/datasets/melc/melanoma/processed/validation'",
     "output_type": "error",
     "traceback": [
      "\u001b[0;31m---------------------------------------------------------------------------\u001b[0m",
      "\u001b[0;31mFileNotFoundError\u001b[0m                         Traceback (most recent call last)",
      "Cell \u001b[0;32mIn[3], line 2\u001b[0m\n\u001b[1;32m      1\u001b[0m data \u001b[38;5;241m=\u001b[39m \u001b[38;5;124m\"\u001b[39m\u001b[38;5;124m/data_nfs/datasets/melc/melanoma/processed\u001b[39m\u001b[38;5;124m\"\u001b[39m\n\u001b[0;32m----> 2\u001b[0m vdata \u001b[38;5;241m=\u001b[39m [os\u001b[38;5;241m.\u001b[39mpath\u001b[38;5;241m.\u001b[39mjoin(data, \u001b[38;5;124m\"\u001b[39m\u001b[38;5;124mvalidation\u001b[39m\u001b[38;5;124m\"\u001b[39m, d) \u001b[38;5;28;01mfor\u001b[39;00m d \u001b[38;5;129;01min\u001b[39;00m \u001b[38;5;28msorted\u001b[39m(\u001b[43mos\u001b[49m\u001b[38;5;241;43m.\u001b[39;49m\u001b[43mlistdir\u001b[49m\u001b[43m(\u001b[49m\u001b[43mos\u001b[49m\u001b[38;5;241;43m.\u001b[39;49m\u001b[43mpath\u001b[49m\u001b[38;5;241;43m.\u001b[39;49m\u001b[43mjoin\u001b[49m\u001b[43m(\u001b[49m\u001b[43mdata\u001b[49m\u001b[43m,\u001b[49m\u001b[43m \u001b[49m\u001b[38;5;124;43m\"\u001b[39;49m\u001b[38;5;124;43mvalidation\u001b[39;49m\u001b[38;5;124;43m\"\u001b[39;49m\u001b[43m)\u001b[49m\u001b[43m)\u001b[49m)] \u001b[38;5;66;03m# balance_and_shuffle(os.path.join(data, \"validation\"))#\u001b[39;00m\n\u001b[1;32m      3\u001b[0m tdata \u001b[38;5;241m=\u001b[39m [os\u001b[38;5;241m.\u001b[39mpath\u001b[38;5;241m.\u001b[39mjoin(data, \u001b[38;5;124m\"\u001b[39m\u001b[38;5;124mtraining\u001b[39m\u001b[38;5;124m\"\u001b[39m, d) \u001b[38;5;28;01mfor\u001b[39;00m d \u001b[38;5;129;01min\u001b[39;00m \u001b[38;5;28msorted\u001b[39m(os\u001b[38;5;241m.\u001b[39mlistdir(os\u001b[38;5;241m.\u001b[39mpath\u001b[38;5;241m.\u001b[39mjoin(data, \u001b[38;5;124m\"\u001b[39m\u001b[38;5;124mtraining\u001b[39m\u001b[38;5;124m\"\u001b[39m)))] \u001b[38;5;66;03m# balance_and_shuffle(os.path.join(data, \"validation\"))#\u001b[39;00m\n\u001b[1;32m      4\u001b[0m data \u001b[38;5;241m=\u001b[39m vdata \u001b[38;5;241m+\u001b[39m tdata\n",
      "\u001b[0;31mFileNotFoundError\u001b[0m: [Errno 2] No such file or directory: '/data_nfs/datasets/melc/melanoma/processed/validation'"
     ]
    }
   ],
   "source": [
    "data = \"/data_nfs/datasets/melc/melanoma/processed\"\n",
    "vdata = [os.path.join(data, \"validation\", d) for d in sorted(os.listdir(os.path.join(data, \"validation\")))] # balance_and_shuffle(os.path.join(data, \"validation\"))#\n",
    "tdata = [os.path.join(data, \"training\", d) for d in sorted(os.listdir(os.path.join(data, \"training\")))] # balance_and_shuffle(os.path.join(data, \"validation\"))#\n",
    "data = vdata + tdata\n",
    "dl = t.utils.data.DataLoader(MelanomaData(markers, data, mode=\"val\"), batch_size=10) #, shuffle=True)"
   ]
  },
  {
   "cell_type": "code",
   "execution_count": null,
   "id": "5128c89d-7061-4ff8-918b-7f03c4e1730b",
   "metadata": {
    "scrolled": true
   },
   "outputs": [],
   "source": [
    "model = EfficientnetWithFinetuning(indim=len(markers))\n",
    "model.load_state_dict(t.load(\"/data_nfs/je30bery/melanoma_data/model/saved_models/model_2023-11-20 16:27:56.558630_f1=0.9260606060606061_acc=0.9166666666666666_11.pt\"))\n",
    "model.eval()"
   ]
  },
  {
   "cell_type": "code",
   "execution_count": null,
   "id": "c6ee9382-dde7-4742-abcc-56665e12ac8e",
   "metadata": {},
   "outputs": [],
   "source": [
    "labels = np.array([int(\"Nevi\" in d) for d in data])\n",
    "labels"
   ]
  },
  {
   "cell_type": "code",
   "execution_count": null,
   "id": "bdfcd75d-23c0-4d95-a322-273f2b2634e1",
   "metadata": {},
   "outputs": [],
   "source": [
    "def extract_features(model, x):\n",
    "    model = model.cuda()\n",
    "    x = x.cuda()\n",
    "    x = model.features(x)\n",
    "    x = model.avgpool(x)\n",
    "    x = model.flatten(x)\n",
    "    x = model.classifier1(x)    \n",
    "    return x"
   ]
  },
  {
   "cell_type": "code",
   "execution_count": null,
   "id": "3a329c11-b624-48b3-b985-61a4dc755d8d",
   "metadata": {},
   "outputs": [],
   "source": [
    "it = iter(dl)"
   ]
  },
  {
   "cell_type": "code",
   "execution_count": null,
   "id": "5cda5810-6f8e-4281-9680-6d8286d6d8f5",
   "metadata": {},
   "outputs": [],
   "source": [
    "features = list()\n",
    "while True:\n",
    "    try:\n",
    "        input_t, label = next(it)\n",
    "    except StopIteration:\n",
    "        break\n",
    "    features.append(extract_features(model, input_t).detach().cpu().numpy())"
   ]
  },
  {
   "cell_type": "code",
   "execution_count": null,
   "id": "b09cc85f-2c7d-42c6-bd8c-f3c39f055cb2",
   "metadata": {},
   "outputs": [],
   "source": [
    "features = np.concatenate(features)\n",
    "features.shape"
   ]
  },
  {
   "cell_type": "code",
   "execution_count": null,
   "id": "abd8fae9-df5a-4c92-aa8e-52b48c652e6b",
   "metadata": {},
   "outputs": [],
   "source": [
    "num_pertubations = 1000\n",
    "shilouette_scores = list()\n",
    "reference_scores = list()\n",
    "\n",
    "mel_features = features[np.where(labels==0)]\n",
    "\n",
    "for i in range(2,11):\n",
    "    kmeans = KMeans(n_clusters=i, n_init=\"auto\")\n",
    "    y = kmeans.fit_predict(mel_features)\n",
    "    y_copy = y.copy()\n",
    "    score = silhouette_score(mel_features, y)\n",
    "    shilouette_scores.append(score)\n",
    "\n",
    "    acc = list()\n",
    "    for j in range(num_pertubations):\n",
    "        random.shuffle(y)\n",
    "        acc.append(silhouette_score(mel_features, y))\n",
    "    reference_scores.append(score - np.array(acc))"
   ]
  },
  {
   "cell_type": "code",
   "execution_count": null,
   "id": "0145daa3-3f18-4a65-b141-de9cc4bc8a67",
   "metadata": {},
   "outputs": [],
   "source": [
    "gap_stat = pd.DataFrame(np.array(reference_scores).T, columns=range(2,11))"
   ]
  },
  {
   "cell_type": "code",
   "execution_count": null,
   "id": "29d8db5c-33be-4414-be94-999a2f5401a5",
   "metadata": {},
   "outputs": [],
   "source": [
    "plt.clf()\n",
    "plt.title(\"K-Means Clustering of Melanoma Samples in 50-dim. Feature Space\")\n",
    "plt.xlabel(\"K\")\n",
    "plt.plot(range(0, 9), shilouette_scores, label=\"Silhouette score of\\nK-Means clusters\", color=\"m\")\n",
    "sns.pointplot(gap_stat, label=\"Gap: Difference of Sil. score\\nof K-Means and clusters\\nwith permuted labels, n=1000\")\n",
    "plt.legend(fontsize=\"8\")\n",
    "#plt.savefig(\"Gap_Statistics.pdf\")"
   ]
  },
  {
   "cell_type": "code",
   "execution_count": null,
   "id": "1485dd59-10f6-4ce3-b2cf-521ad1e80ccd",
   "metadata": {},
   "outputs": [],
   "source": [
    "plt.title(\"K-Means Clustering of Melanoma Samples in 50-dim. Feature Space \\n Gap Statistics\")\n",
    "plt.ylabel(\"Gap\")\n",
    "plt.xlabel(\"K\")\n",
    "sns.pointplot(gap_stat)"
   ]
  },
  {
   "cell_type": "code",
   "execution_count": null,
   "id": "fd51910a-913d-4b9b-a8ae-a2f903ce7da9",
   "metadata": {},
   "outputs": [],
   "source": [
    "p = PCA(2)"
   ]
  },
  {
   "cell_type": "code",
   "execution_count": null,
   "id": "934898ba-2cc1-4fcb-ad64-88d4a6a8cd4a",
   "metadata": {},
   "outputs": [],
   "source": [
    "transf = p.fit_transform(features)\n",
    "kmeans = KMeans(n_clusters=4, n_init=\"auto\")\n",
    "y = kmeans.fit_predict(features)"
   ]
  },
  {
   "cell_type": "code",
   "execution_count": null,
   "id": "da98fb14-af90-4c90-9642-9d724de269c1",
   "metadata": {},
   "outputs": [],
   "source": [
    "f, axs = plt.subplots(1, 2, sharex=True, sharey=True, figsize=(10, 5))\n",
    "for c in np.unique(y):\n",
    "    axs[0].scatter(transf[np.where(y == c)][:,0], transf[np.where(y == c)][:,1], label=f\"Cluster {c}\")\n",
    "axs[0].legend()\n",
    "plt.suptitle(\"PCA on Features\")\n",
    "axs[0].set_xlabel(\"Principal Component 1\")\n",
    "axs[0].set_ylabel(\"Principal Component 2\")\n",
    "axs[1].set_xlabel(\"Principal Component 1\")\n",
    "\n",
    "\n",
    "axs[1].scatter(transf[np.where(labels == 0)][:,0], transf[np.where(labels == 0)][:,1], label=f\"Melanoma\")\n",
    "axs[1].scatter(transf[np.where(labels == 1)][:,0], transf[np.where(labels == 1)][:,1], label=f\"Nevi\")\n",
    "axs[1].legend()"
   ]
  },
  {
   "cell_type": "code",
   "execution_count": null,
   "id": "b5c5f5fb-2fdb-4520-9a0a-f4f1654b04b9",
   "metadata": {
    "scrolled": true
   },
   "outputs": [],
   "source": [
    "f, axs = plt.subplots(1, 2, sharex=True, sharey=True, figsize=(10, 5))\n",
    "pal = sns.color_palette(\"Spectral\", 42)\n",
    "ids = np.array([\"_\".join(os.path.basename(id).split(\"_\")[:2]) for id in data])\n",
    "for i, c in enumerate(np.unique(ids)):\n",
    "    if \"Melanoma\" in c:\n",
    "        axs[0].scatter(transf[np.where(ids == c)][:,0], transf[np.where(ids == c)][:,1], label=c, color=pal[int(c.split(\"_\")[-1])])\n",
    "    else:\n",
    "        axs[1].scatter(transf[np.where(ids == c)][:,0], transf[np.where(ids == c)][:,1], label=c, color=pal[int(c.split(\"_\")[-1])*2])\n",
    "plt.title(\"Coloring per Patient\")\n",
    "axs[0].set_title(\"Melanoma\")\n",
    "axs[1].set_title(\"Nevi\")\n",
    "plt.show()"
   ]
  }
 ],
 "metadata": {
  "kernelspec": {
   "display_name": "Python 3 (ipykernel)",
   "language": "python",
   "name": "python3"
  },
  "language_info": {
   "codemirror_mode": {
    "name": "ipython",
    "version": 3
   },
   "file_extension": ".py",
   "mimetype": "text/x-python",
   "name": "python",
   "nbconvert_exporter": "python",
   "pygments_lexer": "ipython3",
   "version": "3.9.17"
  }
 },
 "nbformat": 4,
 "nbformat_minor": 5
}
